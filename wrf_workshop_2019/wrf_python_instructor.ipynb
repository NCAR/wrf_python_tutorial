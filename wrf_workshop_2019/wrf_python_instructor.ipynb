{
 "cells": [
  {
   "cell_type": "markdown",
   "metadata": {
    "collapsed": true,
    "slideshow": {
     "slide_type": "slide"
    }
   },
   "source": [
    "# WRF-Python Tutorial 2018\n",
    "<p><p>\n",
    "\n",
    "## Bill Ladwig\n",
    "## NCAR/CISL/VAST"
   ]
  },
  {
   "cell_type": "markdown",
   "metadata": {
    "slideshow": {
     "slide_type": "subslide"
    }
   },
   "source": [
    "# What is WRF-Python?\n",
    "\n",
    "- WRF-Python is a post-processing tool similar to NCL's WRF Package.\n",
    "  - Contains over 30 diagnostic routines (CAPE, storm relative helicity, cloud top temperature, etc).\n",
    "  - Interpolation routines (level, cross section, surface).\n",
    "  - Utilities to help with plotting via cartopy, basemap, PyNGL.\n",
    "- WRF-ARW only.\n",
    "- WRF-Python is **NOT** a tool for running the WRF-ARW model with Python."
   ]
  },
  {
   "cell_type": "markdown",
   "metadata": {
    "slideshow": {
     "slide_type": "subslide"
    }
   },
   "source": [
    "# Topics\n",
    "\n",
    "1. Introduction to jupyter notebooks, numpy, xarray\n",
    "1. Overview of WRF-ARW Output Data\n",
    "1. WRF-Python Functions\n",
    "1. Plotting\n",
    "1. OpenMP and Performance*\n",
    "1. Advanced*\n",
    "\n",
    "\\* Time permitting"
   ]
  },
  {
   "cell_type": "markdown",
   "metadata": {
    "collapsed": true,
    "slideshow": {
     "slide_type": "subslide"
    }
   },
   "source": [
    "# 1.0 Introduction to jupyter, numpy, xarray"
   ]
  },
  {
   "cell_type": "markdown",
   "metadata": {
    "collapsed": true,
    "slideshow": {
     "slide_type": "subslide"
    }
   },
   "source": [
    "## What is Jupyter Notebook?\n",
    "\n",
    "- Originally IPython Notebook (now Julia, Python, R)\n",
    "- The Jupyter Notebook is an open-source web application that allows you to create and share documents that contain live code, equations, visualizations and explanatory text. \n",
    "\n",
    "- The Jupyter Notebook actually consists of an application and a document.\n",
    "\n",
    "- The Jupyter Notebook application is a web browser application that allows editing and executing of jupyter notebook documents.\n"
   ]
  },
  {
   "cell_type": "markdown",
   "metadata": {
    "collapsed": true,
    "slideshow": {
     "slide_type": "subslide"
    }
   },
   "source": [
    "## What is Jupyter Notebook?\n",
    "\n",
    "- Jupyter Notebook documents (usually ending with a .ipynb extension), are really just JSON-formatted text files that contain the code and rich text elements that will be rendered by the jupyter notebook application.  \n",
    "\n",
    "- Jupyter notebook documents are NOT Python scripts, so do not try to run them via the 'python' command.  They need to be converted first.\n",
    "\n",
    "- For this tutorial, when we refer to jupyter notebook, we're referring to both the application and document."
   ]
  },
  {
   "cell_type": "markdown",
   "metadata": {
    "slideshow": {
     "slide_type": "subslide"
    }
   },
   "source": [
    "## Activating Your Conda Environment\n",
    "\n",
    "If you followed the installation instructions on the web, you should have created a \"tutorial_2018\" conda environment.  \n",
    "\n",
    "To activate it, first open a terminal and type in:\n",
    "\n",
    "```\n",
    "source activate tutorial_2018 [Linux/Mac]\n",
    "\n",
    "activate tutorial_2018 [Windows]\n",
    "```\n",
    "\n",
    "Raise your hand if you need help."
   ]
  },
  {
   "cell_type": "markdown",
   "metadata": {
    "slideshow": {
     "slide_type": "subslide"
    }
   },
   "source": [
    "## Pulling Down the Latest Changes\n",
    "\n",
    "```\n",
    "\n",
    "cd ~/wrf_python_tutorial\n",
    "\n",
    "[cd %HOMEPATH%\\wrf_python_tutorial]\n",
    "\n",
    "git checkout -- .\n",
    "\n",
    "git pull\n",
    "\n",
    "```\n"
   ]
  },
  {
   "cell_type": "markdown",
   "metadata": {
    "slideshow": {
     "slide_type": "subslide"
    }
   },
   "source": [
    "## Starting jupyter notebook\n",
    "\n",
    "Linux/Mac:\n",
    "```\n",
    "cd ~\n",
    "cd wrf_python_tutorial/wrf_workshop_2018\n",
    "jupyter notebook\n",
    "```\n",
    "\n",
    "Windows:\n",
    "```\n",
    "cd %HOMEPATH%\n",
    "cd wrf_python_tutorial\\wrf_workshop_2018\n",
    "jupyter notebook\n",
    "```\n",
    "\n",
    "If for some reason the browser does not launch automatically, open a web browser and copy the URL listed on your command terminal:\n",
    "\n",
    "```\n",
    "http://localhost:8888/?token=...\n",
    "```"
   ]
  },
  {
   "cell_type": "markdown",
   "metadata": {
    "slideshow": {
     "slide_type": "subslide"
    }
   },
   "source": [
    "Your web browser should look similar to this:\n",
    " \n",
    "![alt](images/jupyter_home.png)\n"
   ]
  },
  {
   "cell_type": "markdown",
   "metadata": {
    "slideshow": {
     "slide_type": "subslide"
    }
   },
   "source": [
    "Now click on the **wrf_workshop_2018.ipynb** link.  \n",
    "\n",
    "This should open a new browser tab that looks similar to:\n",
    "\n",
    "![alt](images/jupyter_workbook.png)\n"
   ]
  },
  {
   "cell_type": "markdown",
   "metadata": {
    "collapsed": true,
    "slideshow": {
     "slide_type": "subslide"
    }
   },
   "source": [
    "# Cells\n",
    "\n",
    "- A jupyter notebook is a collection of cells, similar to Mathematica.\n",
    "\n",
    "- Cells can be either executable code or text (markdown).\n",
    "\n",
    "- Cells can also be specified as slides, which is how this slide show was made (along with the Rise plugin)."
   ]
  },
  {
   "cell_type": "markdown",
   "metadata": {
    "slideshow": {
     "slide_type": "subslide"
    }
   },
   "source": [
    "# Cells\n",
    "\n",
    "- Entering and executing code in cells is the same as having typed it in to the Python \n",
    "  shell program.\n",
    "- The order of execution of the cells can have impacts on variables that are used across\n",
    "  the cells, so be careful when re-running cells.\n",
    "- Aside from the first cell you run, the cells used in this tutorial should be more like\n",
    "  independent scripts.\n",
    "  "
   ]
  },
  {
   "cell_type": "markdown",
   "metadata": {
    "collapsed": true,
    "slideshow": {
     "slide_type": "subslide"
    }
   },
   "source": [
    "## Executing Cells\n",
    "\n",
    "1. Click on the desired cell.\n",
    "2. Press **CTRL + RETURN** to execute the cell or press **SHIFT + RETURN** to execute the cell and advance to the next cell.\n",
    "3. Alternatively, you can use the Cell dropdown menu"
   ]
  },
  {
   "cell_type": "markdown",
   "metadata": {
    "slideshow": {
     "slide_type": "subslide"
    }
   },
   "source": [
    "## Restarting the Notebook\n",
    "\n",
    "If your notebook crashes for some reason:\n",
    "\n",
    "1. Use the Kernel dropdown menu at the top.\n",
    "2. Execute Kernel -> Restart & Clear Output.\n"
   ]
  },
  {
   "cell_type": "markdown",
   "metadata": {
    "slideshow": {
     "slide_type": "subslide"
    }
   },
   "source": [
    "## Shutting down the notebook\n",
    "\n",
    "1. On your web browser, select the Home tab.\n",
    "2. Click the check box next to wrf_workshop_2018.ipynb.\n",
    "3. Click the Shutdown button that will become available after step 2.\n",
    "4. Now go to the terminal window where you typed in \"jupyter notebook\".\n",
    "5. With the terminal window active, press **CTRL + C**."
   ]
  },
  {
   "cell_type": "markdown",
   "metadata": {
    "slideshow": {
     "slide_type": "subslide"
    }
   },
   "source": [
    "# 1.1 Verifying your Jupyter Environment\n",
    "\n",
    "To set up the tutorial to work with your files, **modify the WRF_DIRECTORY and WRF_FILES variables** to point to your WRF files.\n",
    "\n",
    "**IMPORTANT**:  If for some reason your workbook crashes, you need to run this cell again before running the later examples."
   ]
  },
  {
   "cell_type": "code",
   "execution_count": null,
   "metadata": {
    "slideshow": {
     "slide_type": "-"
    }
   },
   "outputs": [],
   "source": [
    "from __future__ import print_function\n",
    "\n",
    "# This jupyter notebook command inserts matplotlib graphics in \n",
    "# to the workbook\n",
    "%matplotlib inline\n",
    "\n",
    "# Modify these to point to your own files\n",
    "WRF_DIRECTORY = \"~/wrf_tutorial_data\"\n",
    "WRF_FILES = [\"wrfout_d01_2005-08-28_00_00_00\",\n",
    "             \"wrfout_d01_2005-08-28_12_00_00\",\n",
    "             \"wrfout_d01_2005-08-29_00_00_00\"]\n",
    "\n",
    "\n",
    "# Do not modify the code below this line\n",
    "#------------------------------------------------------\n",
    "# Turn off annoying warnings\n",
    "import warnings\n",
    "warnings.filterwarnings('ignore')\n",
    "\n",
    "# Make sure the environment is good\n",
    "import numpy\n",
    "import cartopy\n",
    "import matplotlib\n",
    "from netCDF4 import Dataset\n",
    "from xarray import DataArray\n",
    "from wrf import (getvar, interplevel, vertcross, \n",
    "                 vinterp, ALL_TIMES)\n",
    "import os\n",
    "\n",
    "_WRF_FILES = [os.path.abspath(os.path.expanduser(\n",
    "    os.path.join(WRF_DIRECTORY, f))) for f in WRF_FILES]\n",
    "\n",
    "# Check that the WRF files exist\n",
    "for f in _WRF_FILES:\n",
    "    if not os.path.exists(f):\n",
    "        raise ValueError(\"{} does not exist. \"\n",
    "            \"Check for typos or incorrect directory.\".format(full_path))\n",
    "\n",
    "# Create functions so that the WRF files only need\n",
    "# to be specified using the WRF_FILES global above\n",
    "def single_wrf_file():\n",
    "    global _WRF_FILES\n",
    "    return _WRF_FILES[0]\n",
    "\n",
    "def multiple_wrf_files():\n",
    "    global _WRF_FILES\n",
    "    return _WRF_FILES\n",
    "\n",
    "print(\"All tests passed!\")\n",
    "    \n"
   ]
  },
  {
   "cell_type": "markdown",
   "metadata": {
    "collapsed": true,
    "slideshow": {
     "slide_type": "subslide"
    }
   },
   "source": [
    "# Numpy\n",
    "\n",
    "- Numpy is a Python package for performing array based operations, similar to Matlab and NCL.\n",
    "- Numpy arrays can be created for the common types in C (named \"dtype\" in numpy)\n",
    "  - int8, int16, int32, int64 (and unsigned versions)\n",
    "  - float16, float32, float64 [default]\n",
    "  - bool\n",
    "  - complex64, complex128\n",
    "- Arrays can be C-ordered (fastest on right) or Fortran-ordered (fastest on left).  C-ordered by default."
   ]
  },
  {
   "cell_type": "markdown",
   "metadata": {
    "collapsed": true,
    "slideshow": {
     "slide_type": "subslide"
    }
   },
   "source": [
    "# Numpy Basics\n",
    "\n",
    "## Array Creation\n",
    "\n",
    "In this example, we're going to create an array of all zeros with 3x3x3 shape.\n",
    "\n",
    "Here is how to create an array of floats and then integers."
   ]
  },
  {
   "cell_type": "code",
   "execution_count": null,
   "metadata": {},
   "outputs": [],
   "source": [
    "import numpy\n",
    "\n",
    "array_float32 = numpy.zeros((3,3,3), \"float32\")\n",
    "\n",
    "array_int32 = numpy.zeros((3,3,3), \"int32\")"
   ]
  },
  {
   "cell_type": "markdown",
   "metadata": {
    "collapsed": true,
    "slideshow": {
     "slide_type": "subslide"
    }
   },
   "source": [
    "## Accessing Elements\n",
    "\n",
    "- To access elements in numpy, you use the bracket \"[ ]\" syntax.  \n",
    "\n",
    "- Supply each desired index separated by commas (this is really a tuple).\n",
    "\n",
    "- You can use also negative indexes to pick indexes from the end.\n"
   ]
  },
  {
   "cell_type": "code",
   "execution_count": null,
   "metadata": {
    "slideshow": {
     "slide_type": "subslide"
    }
   },
   "outputs": [],
   "source": [
    "import numpy\n",
    "\n",
    "my_array = numpy.zeros((3,3,3), \"float32\")\n",
    "\n",
    "# Accessing elements\n",
    "first_element = my_array[0,0,0]\n",
    "\n",
    "last_element = my_array[-1,-1,-1]\n",
    "\n",
    "mid_element = my_array[1,1,1]\n",
    "\n",
    "# Setting an element\n",
    "my_array[1,1,1] = 10.0"
   ]
  },
  {
   "cell_type": "markdown",
   "metadata": {
    "collapsed": true,
    "slideshow": {
     "slide_type": "subslide"
    }
   },
   "source": [
    "## Slices\n",
    "\n",
    "- Slices are a way to extract array subsets from an array.\n",
    "- The syntax for a slice is the ':' character.\n",
    "- Specifying the ':' for a dimension will return all values along that dimension.\n",
    "- Specifying 'start : end' will take a subset of that dimension. Also, either *start* or *end* can be left blank.\n",
    "- The *end* index is NOT included in the sliced data (opposite of NCL).\n",
    "- Can also use a *step* value with 'start : end : step' if you want to increment values with something other than 1."
   ]
  },
  {
   "cell_type": "code",
   "execution_count": null,
   "metadata": {
    "slideshow": {
     "slide_type": "subslide"
    }
   },
   "outputs": [],
   "source": [
    "import numpy\n",
    "\n",
    "my_array = numpy.zeros((3,3,3), \"float32\")\n",
    "\n",
    "first_row = my_array[0,0,:]\n",
    "\n",
    "first_column = my_array[0,:,0]\n",
    "\n",
    "first_z = my_array[:,0,0]\n",
    "\n",
    "subset = my_array[:, :, 1:3]\n",
    "\n",
    "reverse_z = my_array[::-1, :, :]"
   ]
  },
  {
   "cell_type": "markdown",
   "metadata": {
    "slideshow": {
     "slide_type": "subslide"
    }
   },
   "source": [
    "Also, slices are implicitly applied from left to right for unspecified dimensions."
   ]
  },
  {
   "cell_type": "code",
   "execution_count": null,
   "metadata": {},
   "outputs": [],
   "source": [
    "import numpy\n",
    "\n",
    "my_array = numpy.zeros((3,3,3), \"float32\")\n",
    "\n",
    "first_plane = my_array[0,:,:]\n",
    "\n",
    "# This is the same as first_plane\n",
    "first_plane2 = my_array[0]\n",
    "\n",
    "# A short way to get everything\n",
    "# Same as my_array[:,:,:]\n",
    "all_elements = my_array[:]"
   ]
  },
  {
   "cell_type": "markdown",
   "metadata": {
    "slideshow": {
     "slide_type": "subslide"
    }
   },
   "source": [
    "# Masked Arrays\n",
    "\n",
    "- numpy uses a numpy array subclass called a MaskedArray.\n",
    "- MaskedArrays contain a data array and a boolean mask array (True/False).\n",
    "- Usually a fill_value is set in the data array at each location where the mask array is True.\n",
    "- Numerous ways to convert a regular numpy array to a MaskedArray:\n",
    "  - masked_equal\n",
    "  - masked_greater\n",
    "  - masked_where\n"
   ]
  },
  {
   "cell_type": "markdown",
   "metadata": {
    "collapsed": true,
    "slideshow": {
     "slide_type": "subslide"
    }
   },
   "source": [
    "## Creating a MaskedArray"
   ]
  },
  {
   "cell_type": "code",
   "execution_count": null,
   "metadata": {},
   "outputs": [],
   "source": [
    "\n",
    "import numpy\n",
    "import numpy.ma\n",
    "\n",
    "my_array = numpy.zeros((3,3,3), \"float32\")\n",
    "\n",
    "# Now all the array elements are masked values\n",
    "my_masked = numpy.ma.masked_equal(my_array, 0)"
   ]
  },
  {
   "cell_type": "markdown",
   "metadata": {
    "collapsed": true,
    "slideshow": {
     "slide_type": "subslide"
    }
   },
   "source": [
    "# Your Turn!\n",
    "\n",
    "## Example 1.2: Numpy Basics"
   ]
  },
  {
   "cell_type": "code",
   "execution_count": null,
   "metadata": {},
   "outputs": [],
   "source": [
    "import numpy\n",
    "import numpy.ma\n",
    "\n",
    "my_array = numpy.zeros((3,3,3), \"float32\")\n",
    "\n",
    "print(\"my_array\")\n",
    "print(my_array)\n",
    "print(\"\\n\")\n",
    "\n",
    "# Setting an element\n",
    "my_array[1,1,1] = 10.0\n",
    "\n",
    "# Getting an element\n",
    "mid = my_array[1,1,1]\n",
    "\n",
    "print(\"Mid element set\")\n",
    "print(my_array)\n",
    "print(\"\\n\")\n",
    "\n",
    "# Getting a slice\n",
    "my_slice = my_array[1,:,:]\n",
    "\n",
    "print(\"my_slice\")\n",
    "print(my_slice)\n",
    "print(\"\\n\")\n",
    "\n",
    "# Masking the zeros\n",
    "my_masked = numpy.ma.masked_equal(my_array, 0)\n",
    "\n",
    "print(\"my_masked\")\n",
    "print(my_masked)\n",
    "print(\"\\n\")\n"
   ]
  },
  {
   "cell_type": "markdown",
   "metadata": {
    "collapsed": true,
    "slideshow": {
     "slide_type": "subslide"
    }
   },
   "source": [
    "# xarray\n",
    "\n",
    "- xarray expands upon numpy by adding dimension names, coordinate variables, and metadata.  \n",
    "- xarray array (DataArray) objects wrap around a numpy array (NOT a numpy array subclasses).\n",
    "  - xarray **HAS A** numpy array (it is not an \"IS A\" relationship)\n",
    "  - Often have to extract the numpy array from the xarray array before passing it to extension modules\n",
    "  - Most numpy methods are available in xarray, but not all.\n"
   ]
  },
  {
   "cell_type": "markdown",
   "metadata": {
    "collapsed": true,
    "slideshow": {
     "slide_type": "subslide"
    }
   },
   "source": [
    "## Creating an xarray Array from a numpy Array \n"
   ]
  },
  {
   "cell_type": "code",
   "execution_count": null,
   "metadata": {},
   "outputs": [],
   "source": [
    "import numpy\n",
    "import xarray\n",
    "\n",
    "my_array = numpy.zeros((3,3,3), \"float32\")\n",
    "\n",
    "# Making up dimension names and \n",
    "# coordinates.\n",
    "my_name = \"my_xarray\"\n",
    "\n",
    "my_dims = [\"bottom_top\", \"south_north\", \"west_east\"]\n",
    "\n",
    "my_coords = {\"bottom_top\" : [100., 200., 300.],\n",
    "             \"south_north\": [40., 50., 60.],\n",
    "             \"west_east\" : [-120., -110., -100.]\n",
    "            }\n",
    "\n",
    "my_attrs = {\"info\" : \"This is my xarray\"}\n",
    "\n",
    "my_xarray = xarray.DataArray(my_array,\n",
    "                             name=my_name,\n",
    "                             dims=my_dims, \n",
    "                             coords=my_coords, \n",
    "                             attrs=my_attrs)"
   ]
  },
  {
   "cell_type": "markdown",
   "metadata": {
    "slideshow": {
     "slide_type": "subslide"
    }
   },
   "source": [
    "## Your Turn!\n",
    "\n",
    "### Example 1.3: Creating an xarray DataArray"
   ]
  },
  {
   "cell_type": "code",
   "execution_count": null,
   "metadata": {
    "slideshow": {
     "slide_type": "-"
    }
   },
   "outputs": [],
   "source": [
    "import numpy\n",
    "import xarray\n",
    "\n",
    "my_array = numpy.zeros((3,3,3), \"float32\")\n",
    "\n",
    "# Making up dimension names and \n",
    "# coordinates.\n",
    "my_name = \"my_xarray\"\n",
    "\n",
    "my_dims = [\"bottom_top\", \"south_north\", \"west_east\"]\n",
    "\n",
    "my_coords = {\"bottom_top\" : [100., 200., 300.],\n",
    "          \"south_north\": [40., 50., 60.],\n",
    "          \"west_east\" : [-120., -110., -100.]\n",
    "         }\n",
    "\n",
    "my_attrs = {\"info\" : \"This is my xarray\"}\n",
    "\n",
    "my_xarray = xarray.DataArray(my_array,\n",
    "                           name=my_name,\n",
    "                           dims=my_dims, \n",
    "                           coords=my_coords, \n",
    "                           attrs=my_attrs)\n",
    "\n",
    "print(my_xarray)\n"
   ]
  },
  {
   "cell_type": "markdown",
   "metadata": {
    "slideshow": {
     "slide_type": "subslide"
    }
   },
   "source": [
    "## xarray and Missing Data Values\n",
    "\n",
    "- xarray always uses IEEE NaN for missing data values.\n",
    "  - Can cause problems with compiled numerical routines.\n",
    "  - Can cause problems for algorithms expecting MaskedArrays.\n",
    "- wrf-python includes the fill value information in the attribute section of the metadata (_FillValue).\n",
    "- The *to_np* routine can be used to convert xarray arrays to numpy/masked arrays.\n",
    "  "
   ]
  },
  {
   "cell_type": "markdown",
   "metadata": {
    "slideshow": {
     "slide_type": "subslide"
    }
   },
   "source": [
    "## Your Turn!\n",
    "\n",
    "## Example 1.4: xarray and Missing Values"
   ]
  },
  {
   "cell_type": "code",
   "execution_count": null,
   "metadata": {},
   "outputs": [],
   "source": [
    "import numpy\n",
    "import numpy.ma\n",
    "import xarray\n",
    "\n",
    "from wrf import to_np\n",
    "\n",
    "# Create a MaskedArray with 10.0 in the center\n",
    "my_array = numpy.zeros((3,3,3), \"float32\")\n",
    "\n",
    "my_array[1,1,1] = 10.0\n",
    "\n",
    "my_masked = numpy.ma.masked_equal(my_array, 0)\n",
    "\n",
    "# Making up dimension names and \n",
    "# coordinates.\n",
    "my_name = \"my_masked_xarray\"\n",
    "\n",
    "my_dims = [\"bottom_top\", \"south_north\", \"west_east\"]\n",
    "\n",
    "my_coords = {\"bottom_top\" : [100., 200., 300.],\n",
    "          \"south_north\": [40., 50., 60.],\n",
    "          \"west_east\" : [-120., -110., -100.]\n",
    "         }\n",
    "\n",
    "my_attrs = {\"info\" : \"This is my masked xarray\",\n",
    "           \"_FillValue\" : -999.0}\n",
    "\n",
    "# Create the xarray DataArray\n",
    "my_xarray = xarray.DataArray(my_masked,\n",
    "                           name=my_name,\n",
    "                           dims=my_dims, \n",
    "                           coords=my_coords, \n",
    "                           attrs=my_attrs)\n",
    "\n",
    "print(\"xarray Array with Missing Values\")\n",
    "print(my_xarray)\n",
    "print(\"\\n\")\n",
    "\n",
    "# Covert back to a MaskedArray\n",
    "converted = to_np(my_xarray)\n",
    "\n",
    "print(\"Converted to a MaskedArray with to_np\")\n",
    "print(converted)"
   ]
  },
  {
   "cell_type": "markdown",
   "metadata": {
    "slideshow": {
     "slide_type": "slide"
    }
   },
   "source": [
    "# 2.0 Overview of WRF Output Data"
   ]
  },
  {
   "cell_type": "markdown",
   "metadata": {
    "slideshow": {
     "slide_type": "-"
    }
   },
   "source": [
    "The first rule of data processing:\n",
    "\n",
    "**\"ALWAYS LOOK AT YOUR DATA\"**\n",
    "\n",
    "\\- D. Shea"
   ]
  },
  {
   "cell_type": "markdown",
   "metadata": {
    "slideshow": {
     "slide_type": "subslide"
    }
   },
   "source": [
    "## Why Look At WRF Data? Isn't It All the Same?\n",
    "\n",
    "- WRF can be configured in various ways and can have variables turned on and off.\n",
    "- If you run in to problems, it could be due to a variable missing.  \n",
    "- Some users intentionally move the coordinate variables to a separate file to save space (not supported by NCL or wrf-python).\n",
    "- If your plot doesn't look right, there could be a map projection issue.\n",
    "\n",
    "\n",
    "\n"
   ]
  },
  {
   "cell_type": "markdown",
   "metadata": {
    "slideshow": {
     "slide_type": "subslide"
    }
   },
   "source": [
    "## Data Viewing Tools\n",
    "There are numerous tools available to examine NetCDF data, from both outside and inside of Python.\n",
    "\n",
    "- **ncdump** (used for this example)\n",
    "- ncl_filedump\n",
    "- netcdf4-python \n",
    "- PyNIO\n",
    "- xarray"
   ]
  },
  {
   "cell_type": "markdown",
   "metadata": {
    "slideshow": {
     "slide_type": "subslide"
    }
   },
   "source": [
    "## ncdump\n",
    "\n",
    "ncdump is a program included with the NetCDF libraries that can be used to examine NetCDF data.\n",
    "\n",
    "By supplying the '-h' option, only the data descriptions are returned.  Otherwise, you'll get all of the data values, which can span miles.\n",
    "\n",
    "To run:\n",
    "\n",
    "```\n",
    "$ ncdump -h wrfout_d01_2005-08-28_00:00:00\n",
    "```"
   ]
  },
  {
   "cell_type": "markdown",
   "metadata": {
    "slideshow": {
     "slide_type": "subslide"
    }
   },
   "source": [
    "## ncdump Output\n",
    "<p></p>\n",
    "<div id=\"nc_dims\" style=\"font-size:75%;\"/>\n",
    "``` \n",
    "netcdf wrfout_d01_2005-08-28_00\\:00\\:00 {\n",
    "dimensions:\n",
    "    Time = UNLIMITED ; // (4 currently)\n",
    "    \n",
    "    DateStrLen = 19 ;\n",
    "    \n",
    "    west_east = 90 ;\n",
    "    \n",
    "    south_north = 73 ;\n",
    "    \n",
    "    bottom_top = 29 ;\n",
    "    \n",
    "    bottom_top_stag = 30 ;\n",
    "    \n",
    "    soil_layers_stag = 4 ;\n",
    "    \n",
    "    west_east_stag = 91 ;\n",
    "    \n",
    "    south_north_stag = 74 ;\n",
    "    \n",
    "```\n",
    "</div>\n",
    "\n"
   ]
  },
  {
   "cell_type": "markdown",
   "metadata": {
    "collapsed": true,
    "slideshow": {
     "slide_type": "subslide"
    }
   },
   "source": [
    "## ncdump Output\n",
    "<p></p>\n",
    "<div id=\"nc_vars\" style=\"font-size:75%;\">\n",
    "```\n",
    "variables:\n",
    "    char Times(Time, DateStrLen) ;\n",
    "    float XLAT(Time, south_north, west_east) ;\n",
    "        XLAT:FieldType = 104 ;\n",
    "        XLAT:MemoryOrder = \"XY \" ;\n",
    "        XLAT:description = \"LATITUDE, SOUTH IS NEGATIVE\" ;\n",
    "        XLAT:units = \"degree_north\" ;\n",
    "        XLAT:stagger = \"\" ;\n",
    "        XLAT:coordinates = \"XLONG XLAT\" ;\n",
    "    float XLONG(Time, south_north, west_east) ;\n",
    "        XLONG:FieldType = 104 ;\n",
    "        XLONG:MemoryOrder = \"XY \" ;\n",
    "        XLONG:description = \"LONGITUDE, WEST IS NEGATIVE\" ;\n",
    "        XLONG:units = \"degree_east\" ;\n",
    "        XLONG:stagger = \"\" ;\n",
    "        XLONG:coordinates = \"XLONG XLAT\" ;\n",
    "        .\n",
    "        .\n",
    "        .\n",
    "    float SST_INPUT(Time, south_north, west_east) ;\n",
    "        SST_INPUT:FieldType = 104 ;\n",
    "        SST_INPUT:MemoryOrder = \"XY \" ;\n",
    "        SST_INPUT:description = \"SEA SURFACE TEMPERATURE \n",
    "            FROM WRFLOWINPUT FILE\" ;\n",
    "        SST_INPUT:units = \"K\" ;\n",
    "        SST_INPUT:stagger = \"\" ;\n",
    "        SST_INPUT:coordinates = \"XLONG XLAT XTIME\" ;\n",
    "```\n",
    "</div>"
   ]
  },
  {
   "cell_type": "markdown",
   "metadata": {
    "slideshow": {
     "slide_type": "subslide"
    }
   },
   "source": [
    "## ncdump Output\n",
    "<p></p>\n",
    "<div id=\"nc_attrs\" style=\"font-size:75%;\">\n",
    "```\n",
    "// global attributes:\n",
    "        :TITLE = \" OUTPUT FROM WRF V3.7 MODEL\" ;\n",
    "        :START_DATE = \"2005-08-28_00:00:00\" ;\n",
    "        :SIMULATION_START_DATE = \"2005-08-28_00:00:00\" ;\n",
    "        :WEST-EAST_GRID_DIMENSION = 91 ;\n",
    "        :SOUTH-NORTH_GRID_DIMENSION = 74 ;\n",
    "        :BOTTOM-TOP_GRID_DIMENSION = 30 ;\n",
    "        :DX = 30000.f ;\n",
    "        :DY = 30000.f ;\n",
    "        .\n",
    "        .\n",
    "        .\n",
    "        :CEN_LAT = 28.00002f ;\n",
    "        :CEN_LON = -89.f ;\n",
    "        :TRUELAT1 = 30.f ;\n",
    "        :TRUELAT2 = 60.f ;\n",
    "        :MOAD_CEN_LAT = 28.00002f ;\n",
    "        :STAND_LON = -89.f ;\n",
    "        :POLE_LAT = 90.f ;\n",
    "        :POLE_LON = 0.f ;\n",
    "        :GMT = 0.f ;\n",
    "        :JULYR = 2005 ;\n",
    "        :JULDAY = 240 ;\n",
    "        :MAP_PROJ = 1 ;\n",
    "        :MAP_PROJ_CHAR = \"Lambert Conformal\" ;\n",
    "        .\n",
    "        .\n",
    "        .\n",
    "}\n",
    "```\n",
    "</div>"
   ]
  },
  {
   "cell_type": "markdown",
   "metadata": {
    "collapsed": true,
    "slideshow": {
     "slide_type": "subslide"
    }
   },
   "source": [
    "## Dimensions\n",
    "\n",
    "WRF-ARW uses an Arakawa C-grid staggered grid [(taken from mmm website)] [1]\n",
    "\n",
    "- Mass related quantities (pressure, temperature, etc) are computed at the center of a grid cell. \n",
    "- The u-component of the horizontal wind is calculated at the left and right edges of a grid cell.  It has one more \n",
    "  point in the x direction than the mass grid.\n",
    "- The v-component of the horizontal wind is calculated at the bottom and top edges of a grid cell.  It has one more     point in the y direction than the mass grid. \n",
    "- The corners of each grid box are know as the 'staggered' grid, and it has one additional point in both the x and y direction.\n",
    "\n",
    "[1]: http://www2.mmm.ucar.edu/rt/amps/information/configuration/wrf_grid_structure.html"
   ]
  },
  {
   "cell_type": "markdown",
   "metadata": {
    "slideshow": {
     "slide_type": "subslide"
    }
   },
   "source": [
    "![alt](images/wrf_stagger.png)"
   ]
  },
  {
   "cell_type": "markdown",
   "metadata": {
    "slideshow": {
     "slide_type": "subslide"
    }
   },
   "source": [
    "<div id=\"nc_dims\" style=\"font-size:75%;\"/>\n",
    "``` \n",
    "netcdf wrfout_d01_2005-08-28_00\\:00\\:00 {\n",
    "dimensions:\n",
    "    Time = UNLIMITED ; // (4 currently)\n",
    "    \n",
    "    DateStrLen = 19 ;\n",
    "    \n",
    "    west_east = 90 ;\n",
    "    \n",
    "    south_north = 73 ;\n",
    "    \n",
    "    bottom_top = 29 ;\n",
    "    \n",
    "    bottom_top_stag = 30 ; <-- Extra grid point\n",
    "    \n",
    "    soil_layers_stag = 4 ;\n",
    "    \n",
    "    west_east_stag = 91 ; <-- Extra grid point\n",
    "    \n",
    "    south_north_stag = 74 ; <-- Extra grid point\n",
    "    \n",
    "```\n",
    "</div>"
   ]
  },
  {
   "cell_type": "markdown",
   "metadata": {
    "slideshow": {
     "slide_type": "subslide"
    }
   },
   "source": [
    "## Variables\n",
    "\n",
    "- Each variable is made up of dimensions, attributes, and data values. \n",
    "- Pay special attention to the units and coordinates attribute.\n",
    "  - The *coordinates* attribute specifies the variables that contain the latitude and longitude \n",
    "    information for each grid box (XLONG, XLAT).\n",
    "  - More recent versions of WRF include an XTIME coordinate.\n",
    "  - The coordinates are named with Fortran ordering, so they'll be listed in reverse.\n",
    "\n",
    "\n"
   ]
  },
  {
   "cell_type": "markdown",
   "metadata": {
    "slideshow": {
     "slide_type": "subslide"
    }
   },
   "source": [
    "<div id=\"var_example\" style=\"font-size:75%;\"/>\n",
    "```\n",
    "float P(Time, bottom_top, south_north, west_east) ; <- Dims\n",
    "\tP:FieldType = 104 ;                       <-  Attribute\n",
    "\tP:MemoryOrder = \"XYZ\" ;                   <-  Attribute\n",
    "    P:description = \"perturbation pressure\" ; <-  Attribute\n",
    "\tP:units = \"Pa\" ;                          <-  Attribute\n",
    "    P:stagger = \"\" ;                          <-  Attribute\n",
    "\tP:coordinates = \"XLONG XLAT XTIME\" ;      <-  Attribute\n",
    "    \n",
    "data:\n",
    "\n",
    " P =\n",
    "  339.8281, 340.3281, 340.25, 341.4531, ... \n",
    "    355.8672, 356.9531, 361.2578, 365.7188,  ...\n",
    "\n",
    "```\n",
    "</div>"
   ]
  },
  {
   "cell_type": "markdown",
   "metadata": {
    "slideshow": {
     "slide_type": "subslide"
    }
   },
   "source": [
    "## Global Attributes\n",
    "\n",
    "- Provide a description of how the model was set up (resolution, map projection, microphysics, etc)\n",
    "- For plotting, the map projection parameters will be the most important.\n",
    "- wrf-python uses this information to build the mapping object in your plotting system of choice - basemap, cartopy, pyngl.\n",
    "\n",
    "\n"
   ]
  },
  {
   "cell_type": "markdown",
   "metadata": {
    "slideshow": {
     "slide_type": "subslide"
    }
   },
   "source": [
    "<div id=\"proj_stuff\" style=\"font-size:75%;\"/>\n",
    "```\n",
    ".\n",
    ".\n",
    ".\n",
    ":CEN_LAT = 28.00002f ;\n",
    ":CEN_LON = -89.f ;\n",
    ":TRUELAT1 = 30.f ;\n",
    ":TRUELAT2 = 60.f ;\n",
    ":MOAD_CEN_LAT = 28.00002f ;\n",
    ":STAND_LON = -89.f ;\n",
    ":POLE_LAT = 90.f ;\n",
    ":POLE_LON = 0.f ;\n",
    ".\n",
    ".\n",
    ":MAP_PROJ = 1 ;\n",
    ":MAP_PROJ_CHAR = \"Lambert Conformal\" ;\n",
    ".\n",
    ".\n",
    ".\n",
    "```\n",
    "</div>"
   ]
  },
  {
   "cell_type": "markdown",
   "metadata": {
    "slideshow": {
     "slide_type": "subslide"
    }
   },
   "source": [
    "## Your Turn!\n",
    "\n",
    "### Example 2.1: Running ncdump"
   ]
  },
  {
   "cell_type": "code",
   "execution_count": null,
   "metadata": {
    "scrolled": true
   },
   "outputs": [],
   "source": [
    "import sys\n",
    "from subprocess import Popen, PIPE, STDOUT\n",
    "\n",
    "file_path = single_wrf_file()\n",
    "\n",
    "# This simply executes 'ncdump -h {wrf_file}' \n",
    "# from Python\n",
    "p = Popen([\"ncdump\", \"-h\", \"{}\".format(file_path)], \n",
    "          stdout=PIPE, stderr=STDOUT)\n",
    "output, _ = p.communicate()\n",
    "\n",
    "# For Python 3.x, decode is needed to convert the raw text bytes back \n",
    "# to a Python string so that Jupyter displays it correctly.\n",
    "if sys.version_info >= (3,):\n",
    "    print(output.decode())\n",
    "else:\n",
    "    print(output)\n"
   ]
  },
  {
   "cell_type": "markdown",
   "metadata": {
    "slideshow": {
     "slide_type": "subslide"
    }
   },
   "source": [
    "## Reading a WRF File in Python\n",
    "\n",
    "You have several options to read a WRF NetCDF file in Python. \n",
    "\n",
    "- **netcdf4-python**\n",
    "- PyNIO (Python 3.x available on conda-forge)\n",
    "- xarray (xarray.Dataset type not currently supported in wrf-python)\n"
   ]
  },
  {
   "cell_type": "markdown",
   "metadata": {
    "slideshow": {
     "slide_type": "subslide"
    }
   },
   "source": [
    "## netcdf4-python Example\n"
   ]
  },
  {
   "cell_type": "code",
   "execution_count": null,
   "metadata": {},
   "outputs": [],
   "source": [
    "from netCDF4 import Dataset\n",
    "\n",
    "file_path = \"/Users/ladwig/wrf_tutorial_data/wrfout_d01_2005-08-28_00_00_00\"\n",
    "\n",
    "wrf_file = Dataset(file_path)"
   ]
  },
  {
   "cell_type": "markdown",
   "metadata": {
    "slideshow": {
     "slide_type": "subslide"
    }
   },
   "source": [
    "## Your Turn!\n",
    "\n",
    "### Example 2.2: Using netcdf4-python"
   ]
  },
  {
   "cell_type": "code",
   "execution_count": null,
   "metadata": {},
   "outputs": [],
   "source": [
    "from netCDF4 import Dataset\n",
    "\n",
    "file_path = single_wrf_file()\n",
    "\n",
    "wrf_file = Dataset(file_path)\n",
    "\n",
    "print(wrf_file)\n"
   ]
  },
  {
   "cell_type": "markdown",
   "metadata": {
    "slideshow": {
     "slide_type": "subslide"
    }
   },
   "source": [
    "## Getting Variables and Attributes\n",
    "\n",
    "- netcdf4-python uses an old API that was \n",
    "  originally created for a package called \n",
    "  Scientific.IO.NetCDF.\n",
    "\n",
    "- PyNIO also uses this API.\n",
    "\n",
    "- xarray does not use this API.\n",
    "\n",
    "- The API may look a little dated.\n",
    "\n",
    "\n"
   ]
  },
  {
   "cell_type": "markdown",
   "metadata": {
    "slideshow": {
     "slide_type": "subslide"
    }
   },
   "source": [
    "### Getting global attributes\n",
    "\n",
    "The get the full dictionary of global attributes, use the \\_\\_dict\\_\\_ attribute.  \n",
    "\n",
    "To work with one attribute at a time, you can use the getncattr and setncattr methods. \n"
   ]
  },
  {
   "cell_type": "code",
   "execution_count": null,
   "metadata": {},
   "outputs": [],
   "source": [
    "global_attrs = wrf_file.__dict__\n",
    "\n",
    "# To get the value for MAP_PROJ, you can do:\n",
    "map_proj = wrf_file.__dict__[\"MAP_PROJ\"]\n",
    "\n",
    "# Or more cleanly\n",
    "map_proj = wrf_file.getncattr(\"MAP_PROJ\")\n",
    "\n",
    "# Or for those that know __dict__ is where the class members are stored\n",
    "map_proj = wrf_file.MAP_PROJ"
   ]
  },
  {
   "cell_type": "markdown",
   "metadata": {
    "slideshow": {
     "slide_type": "subslide"
    }
   },
   "source": [
    "### Getting Variables, Variable Attributes, and Variable Data\n",
    "\n",
    "All variables are stored in a dictionary attribute called *variables*.  \n",
    "\n",
    "Let's get the perturbation pressure \"P\" variable.\n"
   ]
  },
  {
   "cell_type": "code",
   "execution_count": null,
   "metadata": {},
   "outputs": [],
   "source": [
    "# This will return a netCDF4.Variable object\n",
    "p = wrf_file.variables[\"P\"]"
   ]
  },
  {
   "cell_type": "markdown",
   "metadata": {
    "slideshow": {
     "slide_type": "subslide"
    }
   },
   "source": [
    "To get the variable attributes, you can use the \\_\\_dict\\_\\_ attribute to get a dictionary of all attributes. \n",
    "\n",
    "Use the *getncattr* function if you already know the attribute name.\n"
   ]
  },
  {
   "cell_type": "code",
   "execution_count": null,
   "metadata": {},
   "outputs": [],
   "source": [
    "# Return a dictionary of all of P's \n",
    "# attributes\n",
    "p_attrs = p.__dict__\n",
    "\n",
    "# Let's just get the 'coordinates' attribute\n",
    "p_coords = p.getncattr(\"coordinates\")\n",
    "\n",
    "# Or using the class attribute directly\n",
    "p_coords = p.coordinates"
   ]
  },
  {
   "cell_type": "markdown",
   "metadata": {
    "slideshow": {
     "slide_type": "subslide"
    }
   },
   "source": [
    "To get the variable's data as a numpy array, you need to use Python's bracket \"[ ]\" syntax.\n"
   ]
  },
  {
   "cell_type": "code",
   "execution_count": null,
   "metadata": {},
   "outputs": [],
   "source": [
    "# Get a numpy array for all times\n",
    "p_all_data = p[:,:,:,:]\n",
    "\n",
    "# A shorthand version of the above.\n",
    "p_all_data = p[:]\n",
    "\n",
    "# This will extract the numpy array for \n",
    "# time index 0.\n",
    "p_t0_data = p[0,:]"
   ]
  },
  {
   "cell_type": "markdown",
   "metadata": {
    "slideshow": {
     "slide_type": "subslide"
    }
   },
   "source": [
    "## Your Turn!\n",
    "\n",
    "### Example 2.3: Variables, Attributes, and Data with netcd4-python"
   ]
  },
  {
   "cell_type": "code",
   "execution_count": null,
   "metadata": {},
   "outputs": [],
   "source": [
    "from netCDF4 import Dataset\n",
    "\n",
    "file_path = single_wrf_file()\n",
    "\n",
    "# Create the netCDF4.Dataset object\n",
    "wrf_file = Dataset(file_path)\n",
    "\n",
    "# Get the global attribute dict\n",
    "global_attrs = wrf_file.__dict__\n",
    "print (\"Global attributes for the file\")\n",
    "print(global_attrs)\n",
    "print (\"\\n\")\n",
    "\n",
    "# Just get the 'MAP_PROJ' attribute\n",
    "map_proj = wrf_file.getncattr(\"MAP_PROJ\")\n",
    "print (\"The MAP_PROJ attribute:\")\n",
    "print (map_proj)\n",
    "print(\"\\n\")\n",
    "\n",
    "# Get the perturbation pressure variable\n",
    "p = wrf_file.variables[\"P\"]\n",
    "print (\"The P variable: \")\n",
    "print(p)\n",
    "print (\"\\n\")\n",
    "\n",
    "# Get the P attributes\n",
    "p_attrs = p.__dict__\n",
    "print (\"The attribute dict for P\")\n",
    "print (p_attrs)\n",
    "print (\"\\n\")\n",
    "\n",
    "# Get the 'coordinates' attribute for P\n",
    "coords = p.getncattr(\"coordinates\")\n",
    "print (\"Coordinates for P:\")\n",
    "print (coords)\n",
    "print (\"\\n\")\n",
    "\n",
    "# Get the P numpy array for all times\n",
    "p_all_data = p[:]\n",
    "print (\"The P numpy array: \")\n",
    "print (p_all_data)\n",
    "print (\"\\n\")\n",
    "\n",
    "# Get the P numpy array for time 0\n",
    "p_t0_data = p[0,:]\n",
    "print (\"P array at time 0:\")\n",
    "print (p_t0_data)\n",
    "print (\"\\n\")"
   ]
  },
  {
   "cell_type": "markdown",
   "metadata": {
    "slideshow": {
     "slide_type": "subslide"
    }
   },
   "source": [
    "## Pop Quiz\n",
    "\n",
    "What is the first rule of data processing?\n",
    "\n",
    "    A) YOU DO NOT TALK ABOUT DATA PROCESSING\n",
    "    B) 60% OF THE TIME, IT WORKS EVERY TIME\n",
    "    C) ALWAYS LOOK AT YOUR DATA"
   ]
  },
  {
   "cell_type": "markdown",
   "metadata": {
    "slideshow": {
     "slide_type": "slide"
    }
   },
   "source": [
    "# 3.0 WRF-Python Functions"
   ]
  },
  {
   "cell_type": "markdown",
   "metadata": {
    "slideshow": {
     "slide_type": "subslide"
    }
   },
   "source": [
    "WRF-Python provides functionality similar to what is found in the NCL-WRF package:\n",
    "\n",
    "- Over 30 diagnostics calculations.\n",
    "- Several interpolation routines (horizontal level, vertical cross section, horizontal \"surface\").\n",
    "- Plot helper utilities for cartopy, basemap, and PyNGL.\n",
    "- WRF-ARW only.\n"
   ]
  },
  {
   "cell_type": "markdown",
   "metadata": {
    "slideshow": {
     "slide_type": "subslide"
    }
   },
   "source": [
    "The most commonly used functions:\n",
    "\n",
    "- **getvar**: Extracts variables and diagnostic variables.\n",
    "- **interplevel**: Linearly interpolates a 3D variable to a horizontal plane at a specified vertical level.\n",
    "- **vertcross**: Interpolates a 3D variable to a vertical cross section.\n",
    "- **vinterp**: Interpolates a 3D variable to a new surface (e.g. theta-e)."
   ]
  },
  {
   "cell_type": "markdown",
   "metadata": {
    "slideshow": {
     "slide_type": "subslide"
    }
   },
   "source": [
    "## The getvar function\n",
    "\n",
    "The *getvar* function can be used to:\n",
    "\n",
    "- Extract NetCDF variables from a file, similar to netcdf4-python or PyNIO.\n",
    "- Compute diagnostic variables.\n",
    "- Concatenate a variable (either NetCDF or diagnostic) across multiple files. \n",
    "\n"
   ]
  },
  {
   "cell_type": "markdown",
   "metadata": {
    "slideshow": {
     "slide_type": "subslide"
    }
   },
   "source": [
    "### Getting the NetCDF HGT Variable with getvar"
   ]
  },
  {
   "cell_type": "code",
   "execution_count": null,
   "metadata": {},
   "outputs": [],
   "source": [
    "from netCDF4 import Dataset\n",
    "from wrf import getvar\n",
    "\n",
    "file_path = \"/Users/ladwig/wrf_tutorial_data/wrfout_d01_2005-08-28_00_00_00\"\n",
    "\n",
    "wrf_file = Dataset(file_path)\n",
    "\n",
    "hgt = getvar(wrf_file, \"HGT\", timeidx=0)"
   ]
  },
  {
   "cell_type": "markdown",
   "metadata": {
    "slideshow": {
     "slide_type": "subslide"
    }
   },
   "source": [
    "## Your Turn!\n",
    "\n",
    "### Example 3.1: Using getvar to Extract a WRF NetCDF Variable"
   ]
  },
  {
   "cell_type": "code",
   "execution_count": null,
   "metadata": {},
   "outputs": [],
   "source": [
    "from netCDF4 import Dataset\n",
    "from wrf import getvar\n",
    "\n",
    "file_path = single_wrf_file()\n",
    "\n",
    "wrf_file = Dataset(file_path)\n",
    "\n",
    "hgt = getvar(wrf_file, \"HGT\", timeidx=0)\n",
    "\n",
    "print(hgt)"
   ]
  },
  {
   "cell_type": "markdown",
   "metadata": {
    "slideshow": {
     "slide_type": "subslide"
    }
   },
   "source": [
    "## Computing a Diagnostic Variable with getvar"
   ]
  },
  {
   "cell_type": "markdown",
   "metadata": {},
   "source": [
    "In this example, we're going to compute sea level pressure.    \n"
   ]
  },
  {
   "cell_type": "code",
   "execution_count": null,
   "metadata": {},
   "outputs": [],
   "source": [
    "from netCDF4 import Dataset\n",
    "from wrf import getvar\n",
    "\n",
    "file_path = \"/Users/ladwig/wrf_tutorial_data/wrfout_d01_2005-08-28_00_00_00\"\n",
    "\n",
    "wrf_file = Dataset(file_path)\n",
    "\n",
    "slp = getvar(wrf_file, \"slp\", timeidx=0, units=\"hPa\")"
   ]
  },
  {
   "cell_type": "markdown",
   "metadata": {},
   "source": [
    "Note the *units* keyword argument.  Some diagnostics support several choices for units.  However, unit support is still relatively primitive."
   ]
  },
  {
   "cell_type": "markdown",
   "metadata": {
    "slideshow": {
     "slide_type": "subslide"
    }
   },
   "source": [
    "## Your Turn!\n",
    "\n",
    "### Example 3.2: Using getvar to compute Sea Level Pressure (SLP)\n",
    "\n",
    "Also try changing the units for by specifiying the following values:  'hPa', 'Pa', 'atm', 'mmhg'"
   ]
  },
  {
   "cell_type": "code",
   "execution_count": null,
   "metadata": {},
   "outputs": [],
   "source": [
    "from netCDF4 import Dataset\n",
    "from wrf import getvar\n",
    "\n",
    "file_path = single_wrf_file()\n",
    "\n",
    "wrf_file = Dataset(file_path)\n",
    "\n",
    "slp = getvar(wrf_file, \"slp\", timeidx=0, units=\"mmhg\")\n",
    "\n",
    "print(slp)"
   ]
  },
  {
   "cell_type": "markdown",
   "metadata": {
    "slideshow": {
     "slide_type": "subslide"
    }
   },
   "source": [
    "## Combining Across Multiple Files\n",
    "\n",
    "WRF-Python has two methods for combining a variable across multiple files:\n",
    "- **cat** - combines the the variable along the Time dimension (Note: you must order the files yourself)\n",
    "- **join** - creates a new left-most dimension for each file\n",
    "\n",
    "To extract all times in to a single array, set *timeidx* to wrf.ALL_TIMES (an alias for None).\n"
   ]
  },
  {
   "cell_type": "markdown",
   "metadata": {
    "slideshow": {
     "slide_type": "subslide"
    }
   },
   "source": [
    "In this example, we're using the 'cat' method, which is the default."
   ]
  },
  {
   "cell_type": "code",
   "execution_count": null,
   "metadata": {},
   "outputs": [],
   "source": [
    "from netCDF4 import Dataset\n",
    "from wrf import getvar, ALL_TIMES\n",
    "\n",
    "file_paths = [\"/Users/ladwig/wrf_tutorial_data/wrfout_d01_2005-08-28_00_00_00\",\n",
    "              \"/Users/ladwig/wrf_tutorial_data/wrfout_d01_2005-08-28_12_00_00\"\n",
    "             ]\n",
    "\n",
    "wrf_files = [Dataset(file_paths[0]), Dataset(file_paths[1])]\n",
    "\n",
    "# Explicitly specifying 'cat', but this is the default\n",
    "slp = getvar(wrf_files, \"slp\", timeidx=ALL_TIMES, method=\"cat\")"
   ]
  },
  {
   "cell_type": "markdown",
   "metadata": {
    "slideshow": {
     "slide_type": "subslide"
    }
   },
   "source": [
    "## Your Turn!\n"
   ]
  },
  {
   "cell_type": "markdown",
   "metadata": {
    "slideshow": {
     "slide_type": "-"
    }
   },
   "source": [
    "### Example 3.3: Combining Files Using the 'cat' Method"
   ]
  },
  {
   "cell_type": "code",
   "execution_count": null,
   "metadata": {
    "scrolled": true
   },
   "outputs": [],
   "source": [
    "from netCDF4 import Dataset\n",
    "from wrf import getvar, ALL_TIMES\n",
    "\n",
    "file_paths = multiple_wrf_files()\n",
    "\n",
    "wrf_files = [Dataset(f) for f in file_paths]\n",
    "\n",
    "slp = getvar(wrf_files, \"slp\", timeidx=ALL_TIMES, method=\"cat\")\n",
    "\n",
    "print(slp)"
   ]
  },
  {
   "cell_type": "markdown",
   "metadata": {
    "slideshow": {
     "slide_type": "subslide"
    }
   },
   "source": [
    "## Your Turn!"
   ]
  },
  {
   "cell_type": "markdown",
   "metadata": {
    "slideshow": {
     "slide_type": "-"
    }
   },
   "source": [
    "### Example 3.4: Combining Files Using the 'join' Method"
   ]
  },
  {
   "cell_type": "code",
   "execution_count": null,
   "metadata": {},
   "outputs": [],
   "source": [
    "from netCDF4 import Dataset\n",
    "from wrf import getvar, ALL_TIMES\n",
    "\n",
    "file_paths = multiple_wrf_files()\n",
    "\n",
    "wrf_files = [Dataset(f) for f in file_paths]\n",
    "\n",
    "slp = getvar(wrf_files, \"slp\", timeidx=ALL_TIMES, method=\"join\")\n",
    "\n",
    "print(slp)"
   ]
  },
  {
   "cell_type": "markdown",
   "metadata": {
    "slideshow": {
     "slide_type": "subslide"
    }
   },
   "source": [
    "## Interpolation Routines\n",
    "\n",
    "- **interplevel** - linear interpolation to a horizontal plane at a specified height or pressure level.\n",
    "- **vertcross** - vertical cross section interpolation to a vertical plane through two specified points \n",
    "  (or a pivot point and angle).\n",
    "- **vinterp** - interpolates to a \"surface\", which could be pressure levels or temperature levels like theta-e. A smarter version of *interplevel*."
   ]
  },
  {
   "cell_type": "markdown",
   "metadata": {
    "slideshow": {
     "slide_type": "subslide"
    }
   },
   "source": [
    "## The interplevel function\n",
    "\n",
    "- The easiest way to get a field at a specified height or pressure vertical level (500 mb, 5000 m, etc).\n",
    "- Uses linear interpolation, which is fast and generally good enough for plotting.\n",
    "- You should use *vinterp* for geopotential height if you want more accuracy, since the interpolation is done with the decaying exponential \n",
    "  pressure profile."
   ]
  },
  {
   "cell_type": "markdown",
   "metadata": {
    "slideshow": {
     "slide_type": "subslide"
    }
   },
   "source": [
    "### interplevel Example\n",
    " \n",
    "Let's get the 500 hPa geopotential height in decameters"
   ]
  },
  {
   "cell_type": "code",
   "execution_count": null,
   "metadata": {},
   "outputs": [],
   "source": [
    "from netCDF4 import Dataset\n",
    "from wrf import getvar, interplevel\n",
    "\n",
    "file_path = \"/Users/ladwig/wrf_tutorial_data/wrfout_d01_2005-08-28_00_00_00\"\n",
    "\n",
    "wrf_file = Dataset(file_path)\n",
    "\n",
    "pres = getvar(wrf_file, \"pressure\", timeidx=0)\n",
    "\n",
    "ht = getvar(wrf_file, \"z\", timeidx=0, units=\"dm\")\n",
    "\n",
    "ht_500 = interplevel(ht, pres, 500.0)"
   ]
  },
  {
   "cell_type": "markdown",
   "metadata": {
    "collapsed": true,
    "slideshow": {
     "slide_type": "subslide"
    }
   },
   "source": [
    "## Your Turn!\n",
    "\n",
    "### Example 3.5: Interpolate to 500 hPa Using interplevel"
   ]
  },
  {
   "cell_type": "code",
   "execution_count": null,
   "metadata": {},
   "outputs": [],
   "source": [
    "from netCDF4 import Dataset\n",
    "from wrf import getvar, interplevel\n",
    "\n",
    "file_path = single_wrf_file()\n",
    "\n",
    "wrf_file = Dataset(file_path)\n",
    "\n",
    "pres = getvar(wrf_file, \"pressure\", timeidx=0)\n",
    "ht = getvar(wrf_file, \"z\", timeidx=0, units=\"dm\")\n",
    "\n",
    "ht_500 = interplevel(ht, pres, 500.0)\n",
    "\n",
    "print(ht_500)"
   ]
  },
  {
   "cell_type": "markdown",
   "metadata": {
    "slideshow": {
     "slide_type": "subslide"
    }
   },
   "source": [
    "## The vertcross function\n",
    "\n",
    "The idea is to draw a horizontal line at the surface, and the cross section is defined as a vertical plane extending up from this line.\n",
    "\n",
    "- The new x-axis for a cross section plot is the points along the line you made.  The line can be defined by:\n",
    "  1. defining a start point and an end point by using (x,y) grid coordinates or (latitude, longitude) coordinates.\n",
    "  2. defining a pivot point and an angle, which is useful for cross sections that will span most of the domain.\n",
    "- The new y-axis will be a set of vertical levels at default intervals (1% increments), or you can choose them yourself.\n"
   ]
  },
  {
   "cell_type": "markdown",
   "metadata": {
    "slideshow": {
     "slide_type": "subslide"
    }
   },
   "source": [
    "### Introducing the CoordPair Class\n",
    "\n",
    "A *CoordPair* is simply used to store (x,y) coordinates, or (lat,lon) coordinates.  It is also possible to have (x, y, lat, lon), but that's mostly used for metadata.  \n",
    "\n",
    "The *CoordPair* will be used to define your cross section line.\n"
   ]
  },
  {
   "cell_type": "code",
   "execution_count": null,
   "metadata": {},
   "outputs": [],
   "source": [
    "from wrf import CoordPair\n",
    "\n",
    "# Creating an x,y pair\n",
    "x_y_pair = CoordPair(x=10, y=20)\n",
    "\n",
    "# Creating a lat,lon pair\n",
    "lat_lon_pair = CoordPair(lat=30.0, lon=-120.0)"
   ]
  },
  {
   "cell_type": "markdown",
   "metadata": {
    "slideshow": {
     "slide_type": "subslide"
    }
   },
   "source": [
    "### vertcross Example\n",
    "\n",
    "In this example, we're going to define the cross section using a start point and and end point.  \n",
    "\n",
    "We're going to let the algorithm pick the levels, which are at ~1% increments by default."
   ]
  },
  {
   "cell_type": "code",
   "execution_count": null,
   "metadata": {
    "slideshow": {
     "slide_type": "subslide"
    }
   },
   "outputs": [],
   "source": [
    "from netCDF4 import Dataset\n",
    "from wrf import getvar, vertcross, CoordPair\n",
    "\n",
    "file_path = \"/Users/ladwig/wrf_tutorial_data/wrfout_d01_2005-08-28_00_00_00\"\n",
    "wrf_file = Dataset(file_path)\n",
    "\n",
    "# Making a diagonal cross section line from \n",
    "# bottom left to top right.\n",
    "bottom_left = CoordPair(x=0, y=0)\n",
    "top_right = CoordPair(x=-1, y=-1)\n",
    "\n",
    "# Let's get wind speed in kts\n",
    "wspd_wdir = getvar(wrf_file, \"wspd_wdir\", timeidx=0, units=\"kt\")           \n",
    "wspd = wspd_wdir[0,:]\n",
    "\n",
    "# Get the height levels\n",
    "ht = getvar(wrf_file, \"z\", timeidx=0)\n",
    "\n",
    "# Compute the wind speed cross section\n",
    "wspd_cross = vertcross(wspd, ht, start_point=bottom_left, end_point=top_right)"
   ]
  },
  {
   "cell_type": "markdown",
   "metadata": {
    "slideshow": {
     "slide_type": "subslide"
    }
   },
   "source": [
    "## Your Turn!\n",
    "\n",
    "### Example 3.6: Interpolate to a Vertical Cross Section with vertcross"
   ]
  },
  {
   "cell_type": "code",
   "execution_count": null,
   "metadata": {},
   "outputs": [],
   "source": [
    "from netCDF4 import Dataset\n",
    "from wrf import getvar, vertcross, CoordPair\n",
    "\n",
    "file_path = single_wrf_file()\n",
    "wrf_file = Dataset(file_path)\n",
    "\n",
    "# Making a diagonal cross section line from \n",
    "# bottom left to top right.\n",
    "bottom_left = CoordPair(x=0, y=0)\n",
    "top_right = CoordPair(x=-1, y=-1)\n",
    "\n",
    "# Let's get wind speed in kts\n",
    "wspd_wdir = getvar(wrf_file, \"wspd_wdir\", timeidx=0, units=\"kt\")\n",
    "wspd = wspd_wdir[0,:]\n",
    "\n",
    "# Get the height levels\n",
    "ht = getvar(wrf_file, \"z\", timeidx=0)\n",
    "\n",
    "wspd_cross = vertcross(wspd, ht, start_point=bottom_left, end_point=top_right)\n",
    "\n",
    "print(wspd_cross)\n"
   ]
  },
  {
   "cell_type": "markdown",
   "metadata": {
    "slideshow": {
     "slide_type": "subslide"
    }
   },
   "source": [
    "## The vinterp function\n",
    "\n",
    "- Used for interpolating a field to a type of surface:\n",
    "  - pressure\n",
    "  - geopotential height\n",
    "  - theta\n",
    "  - theta-e\n",
    "- User must specify the interpolation level(s) on the new surface.\n",
    "- A smarter, albeit slower and more complicated, version of *interplevel*."
   ]
  },
  {
   "cell_type": "markdown",
   "metadata": {
    "slideshow": {
     "slide_type": "subslide"
    }
   },
   "source": [
    "### vinterp Example\n",
    "\n",
    "In this example, we're going to interpolate pressure to theta-e levels.  "
   ]
  },
  {
   "cell_type": "code",
   "execution_count": null,
   "metadata": {},
   "outputs": [],
   "source": [
    "\n",
    "from netCDF4 import Dataset\n",
    "from wrf import getvar, vinterp \n",
    "\n",
    "file_path = \"/Users/ladwig/wrf_tutorial_data/wrfout_d01_2005-08-28_00_00_00\"\n",
    "wrf_file = Dataset(file_path) \n",
    "\n",
    "pres = getvar(wrf_file, \"pressure\", timeidx=0)\n",
    "\n",
    "# Interpolate pressure to theta-e levels                 \n",
    "interp_levels = [280, 285, 290, 292, 294, \n",
    "                 296, 298, 300, 305, 310]\n",
    "\n",
    "pres_eth = vinterp(wrf_file, \n",
    "                   field=pres, \n",
    "                   vert_coord=\"theta-e\", \n",
    "                   interp_levels=interp_levels, \n",
    "                   extrapolate=False, \n",
    "                   field_type=\"pressure\", \n",
    "                   log_p=False)"
   ]
  },
  {
   "cell_type": "markdown",
   "metadata": {
    "slideshow": {
     "slide_type": "subslide"
    }
   },
   "source": [
    "## Your Turn!\n",
    "\n",
    "### Example 3.7: Interpolate to Theta-e Levels with vinterp"
   ]
  },
  {
   "cell_type": "code",
   "execution_count": null,
   "metadata": {},
   "outputs": [],
   "source": [
    "from netCDF4 import Dataset\n",
    "from wrf import getvar, vinterp \n",
    "\n",
    "file_path = single_wrf_file()\n",
    "wrf_file = Dataset(file_path) \n",
    "\n",
    "pres = getvar(wrf_file, \"pressure\", timeidx=0)\n",
    "\n",
    "# Interpolate pressure to theta-e levels                 \n",
    "interp_levels = [280., 285., 290., 292., 294., \n",
    "                 296., 298., 300., 305., 310.]\n",
    "\n",
    "pres_eth = vinterp(wrf_file, \n",
    "                   field=pres, \n",
    "                   vert_coord=\"theta-e\", \n",
    "                   interp_levels=interp_levels, \n",
    "                   extrapolate=True, \n",
    "                   field_type=\"pressure\", \n",
    "                   log_p=False,\n",
    "                   timeidx=0)\n",
    "\n",
    "print(pres_eth)"
   ]
  },
  {
   "cell_type": "markdown",
   "metadata": {
    "slideshow": {
     "slide_type": "subslide"
    }
   },
   "source": [
    "# Other Useful Functions"
   ]
  },
  {
   "cell_type": "markdown",
   "metadata": {
    "slideshow": {
     "slide_type": "subslide"
    }
   },
   "source": [
    "## to_np\n",
    "\n",
    "Converts an *xarray.DataArray* to a numpy array.\n",
    "\n",
    "This is often necessary when passing wrf-python variables to the plotting functions or to a compiled extension module.\n",
    "\n",
    "This routine does the following:\n",
    "\n",
    "- If no missing/fill values, then it simply calls the *xarray.DataArray.values* property.\n",
    "- If missing/fill values are present, then it replaces the NaN values with the fill value found in the attributes, and returns a MaskedArray.\n"
   ]
  },
  {
   "cell_type": "markdown",
   "metadata": {
    "slideshow": {
     "slide_type": "subslide"
    }
   },
   "source": [
    "### to_np Example"
   ]
  },
  {
   "cell_type": "code",
   "execution_count": null,
   "metadata": {},
   "outputs": [],
   "source": [
    "from netCDF4 import Dataset\n",
    "from wrf import getvar, to_np \n",
    "\n",
    "file_path = \"/Users/ladwig/wrf_tutorial_data/wrfout_d01_2005-08-28_00_00_00\"\n",
    "wrf_file = Dataset(file_path) \n",
    "\n",
    "pres_xarray = getvar(wrf_file, \"pressure\", timeidx=0)\n",
    "\n",
    "pres_numpy = to_np(pres_xarray)"
   ]
  },
  {
   "cell_type": "markdown",
   "metadata": {
    "slideshow": {
     "slide_type": "subslide"
    }
   },
   "source": [
    "## xy_to_ll and ll_to_xy\n",
    "\n",
    "These routines convert to/from grid (x,y) coordinates to/from (lat,lon) coordinates. \n",
    "\n",
    "Works with a single point or sequences of points."
   ]
  },
  {
   "cell_type": "markdown",
   "metadata": {
    "slideshow": {
     "slide_type": "subslide"
    }
   },
   "source": [
    "### xy_to_ll and ll_to_xy Example\n"
   ]
  },
  {
   "cell_type": "code",
   "execution_count": null,
   "metadata": {},
   "outputs": [],
   "source": [
    "from netCDF4 import Dataset\n",
    "from wrf import getvar, xy_to_ll, ll_to_xy \n",
    "\n",
    "file_path = \"/Users/ladwig/wrf_tutorial_data/wrfout_d01_2005-08-28_00_00_00\"\n",
    "wrf_file = Dataset(file_path)\n",
    "\n",
    "# Convert (x=20,y=50) and (x=30,y=75) to latitude,longitude\n",
    "lat_lon = xy_to_ll(wrf_file, [20,30], [50,75])\n",
    "\n",
    "# Convert back to x,y\n",
    "x_y = ll_to_xy(wrf_file, lat_lon[0,:], lat_lon[1,:])"
   ]
  },
  {
   "cell_type": "markdown",
   "metadata": {
    "slideshow": {
     "slide_type": "subslide"
    }
   },
   "source": [
    "## Your Turn!\n",
    "\n",
    "### Example 3.8: xy_to_ll and ll_to_xy"
   ]
  },
  {
   "cell_type": "code",
   "execution_count": null,
   "metadata": {},
   "outputs": [],
   "source": [
    "from netCDF4 import Dataset\n",
    "from wrf import getvar, xy_to_ll, ll_to_xy \n",
    "\n",
    "file_path = single_wrf_file()\n",
    "wrf_file = Dataset(file_path)\n",
    "\n",
    "lat_lon = xy_to_ll(wrf_file, [20, 30], [50,75])\n",
    "\n",
    "print(\"lat,lon values\")\n",
    "print(lat_lon)\n",
    "print(\"\\n\")\n",
    "\n",
    "x_y = ll_to_xy(wrf_file, lat_lon[0,:], lat_lon[1,:])\n",
    "\n",
    "print(\"x,y values\")\n",
    "print(x_y)\n"
   ]
  },
  {
   "cell_type": "markdown",
   "metadata": {
    "slideshow": {
     "slide_type": "slide"
    }
   },
   "source": [
    "# 4.0 Plotting"
   ]
  },
  {
   "cell_type": "markdown",
   "metadata": {
    "slideshow": {
     "slide_type": "subslide"
    }
   },
   "source": [
    "## Plotting\n",
    "- Plotting wrf-python variables in Python can be done using either matplotlib or PyNGL.\n",
    "\n",
    "- For this tutorial, we're going to focus on matplotlib (using cartopy for the mapping).\n",
    "\n",
    "- As of March 2018, cartopy finally supports matplotlib 2.x."
   ]
  },
  {
   "cell_type": "markdown",
   "metadata": {
    "slideshow": {
     "slide_type": "subslide"
    }
   },
   "source": [
    "## Extremely Brief Overview of Matplotlib\n",
    "\n",
    "- Under the hood, matplotlib uses an object oriented API.\n",
    "\n",
    "- In simplest terms, a matplotlib plot consists of Figure object that contains an Axes object (or multiple Axes objects).\n",
    "\n",
    "- The Axes object is where the action is.\n",
    "\n",
    "- The Axes object contains the methods for contouring, making histograms, adding colorbar, etc. "
   ]
  },
  {
   "cell_type": "markdown",
   "metadata": {
    "slideshow": {
     "slide_type": "subslide"
    }
   },
   "source": [
    "### The pyplot API\n",
    "\n",
    "- Most matplotlib users do no need to know much about the underlying object oriented API.\n",
    "\n",
    "- Matplotlib includes a series of standalone functions that wrap around the object oriented API.\n",
    "\n",
    "- These standalone functions are in the matplotlib.pyplot package and it was designed to look similar to the Matlab API.\n",
    "\n",
    "- New users should start here."
   ]
  },
  {
   "cell_type": "markdown",
   "metadata": {
    "slideshow": {
     "slide_type": "subslide"
    }
   },
   "source": [
    "## Your Turn!\n",
    "\n",
    "### Example 4.1: Single Wind Barb Example with pyplot\n",
    "\n",
    "In this example, we are going to plot a single wind barb in the center of the domain using the pyplot API."
   ]
  },
  {
   "cell_type": "code",
   "execution_count": null,
   "metadata": {},
   "outputs": [],
   "source": [
    "from matplotlib import pyplot\n",
    "import numpy as np\n",
    "\n",
    "# Make a 5x5 grid of missing u,v values\n",
    "u = np.ma.masked_equal(np.zeros((5,5)), 0)\n",
    "v = np.ma.masked_equal(np.zeros((5,5)), 0)\n",
    "\n",
    "# Add u,v winds to center of domain\n",
    "u[2,2] = 10.0\n",
    "v[2,2] = 10.0\n",
    "\n",
    "# Draw a single wind barb in the middle using pyplot API\n",
    "# Note:  the axes objects are \"hidden\" in these functions\n",
    "fig = pyplot.figure()\n",
    "pyplot.barbs(u, v)\n",
    "\n",
    "# Set the x and y ranges so the barb is in the middle\n",
    "pyplot.xlim(0, 4)\n",
    "pyplot.ylim(0, 4)\n",
    "\n",
    "pyplot.show()\n",
    "\n"
   ]
  },
  {
   "cell_type": "markdown",
   "metadata": {
    "slideshow": {
     "slide_type": "subslide"
    }
   },
   "source": [
    "## Mixing the APIs\n",
    "\n",
    "- Often you will find yourself mixing the object oriented API with the pyplot API.  \n",
    "\n",
    "- This is required when making subplots, but that is beyond the scope of this tutorial.  \n",
    "\n",
    "- The next example shows how to make the single wind barb using the axes object directly."
   ]
  },
  {
   "cell_type": "markdown",
   "metadata": {
    "slideshow": {
     "slide_type": "subslide"
    }
   },
   "source": [
    "## Your Turn!\n",
    "\n",
    "### Example 4.2: Single Wind Barb Using the Axes Object"
   ]
  },
  {
   "cell_type": "code",
   "execution_count": null,
   "metadata": {},
   "outputs": [],
   "source": [
    "from matplotlib import pyplot\n",
    "import numpy as np\n",
    "\n",
    "# Make a 5x5 grid of missing u,v values\n",
    "u = np.ma.masked_equal(np.zeros((5,5)), 0)\n",
    "v = np.ma.masked_equal(np.zeros((5,5)), 0)\n",
    "\n",
    "# Add u,v winds to center of domain\n",
    "u[2,2] = 10.0\n",
    "v[2,2] = 10.0\n",
    "\n",
    "# We'll use pyplot to create the figure and \n",
    "# get the axes\n",
    "fig = pyplot.figure()\n",
    "ax = pyplot.axes() # <- Now we're using the Axes object directly\n",
    "\n",
    "# Now use the axes directly to create the barbs\n",
    "ax.barbs(u, v)\n",
    "\n",
    "# Set the x and y ranges using the axes directly\n",
    "ax.set_xlim(0, 4)\n",
    "ax.set_ylim(0, 4)\n",
    "\n",
    "pyplot.show()"
   ]
  },
  {
   "cell_type": "markdown",
   "metadata": {
    "slideshow": {
     "slide_type": "subslide"
    }
   },
   "source": [
    "## WRF-Python Plotting Helper Functions\n",
    "\n",
    "wrf-python has several functions to help with plotting when using cartopy, basemap, or PyNGL.  \n",
    "\n",
    "- **get_cartopy, get_basemap, get_pyngl**: Returns the mapping object used by the plotting system.\n",
    "- **latlon_coords**: Returns the latitude and longitude coordinate variables.\n",
    "- **get_bounds**: Returns the geographic boundaries for the variable."
   ]
  },
  {
   "cell_type": "markdown",
   "metadata": {
    "collapsed": true,
    "slideshow": {
     "slide_type": "subslide"
    }
   },
   "source": [
    "## Plotting with cartopy\n",
    "\n",
    "Cartopy uses the same API as matplotlib by returning a matplotlib.axes.Axes subclass (cartopy.mpl.geoaxes.GeoAxes) when a *projection* keyword argument is passed to the matplotlib.pyplot.axes function.  \n",
    "\n",
    "### Getting the GeoAxes object\n"
   ]
  },
  {
   "cell_type": "code",
   "execution_count": null,
   "metadata": {},
   "outputs": [],
   "source": [
    "import matplotlib.pyplot\n",
    "import cartopy.crs\n",
    "\n",
    "# Create a lat/lon map projection object.\n",
    "latlon = cartopy.crs.PlateCarree()\n",
    "\n",
    "geo_axes = pyplot.axes(projection=latlon)"
   ]
  },
  {
   "cell_type": "markdown",
   "metadata": {
    "slideshow": {
     "slide_type": "subslide"
    }
   },
   "source": [
    "### Getting the cartopy Projection Object and Lat/Lon Coordinates Using WRF-Python\n",
    "\n",
    "- When xarray is installed and enabled, wrf-python carries the projection information around in the metadata of a variable.  \n",
    "\n",
    "- You can use the *get_cartopy* function to extract the cartopy projection object from a variable. \n",
    "\n",
    "- You can use the *latlon_coords* function to get the latitude and longitude points.\n"
   ]
  },
  {
   "cell_type": "code",
   "execution_count": null,
   "metadata": {
    "slideshow": {
     "slide_type": "subslide"
    }
   },
   "outputs": [],
   "source": [
    "from netCDF4 import Dataset\n",
    "from wrf import (getvar, get_cartopy, latlon_coords)\n",
    "\n",
    "file_path = \"/Users/ladwig/wrf_tutorial_data/wrfout_d01_2005-08-28_00_00_00\"\n",
    "wrf_file = Dataset(file_path)\n",
    "\n",
    "terrain = getvar(wrf_file, \"ter\", timeidx=0)\n",
    "\n",
    "cart_proj = get_cartopy(terrain)\n",
    "lats, lons = latlon_coords(terrain)"
   ]
  },
  {
   "cell_type": "markdown",
   "metadata": {
    "slideshow": {
     "slide_type": "subslide"
    }
   },
   "source": [
    "## Your Turn!\n",
    "\n",
    "### Example 4.3: Making a Plot of Terrain\n",
    "\n",
    "Let's make a plot of terrain.  It's the easiest way to check if your map is correct."
   ]
  },
  {
   "cell_type": "code",
   "execution_count": null,
   "metadata": {
    "slideshow": {
     "slide_type": "subslide"
    }
   },
   "outputs": [],
   "source": [
    "import numpy\n",
    "from matplotlib import pyplot\n",
    "from matplotlib.cm import get_cmap\n",
    "from cartopy import crs\n",
    "from cartopy.feature import NaturalEarthFeature\n",
    "from netCDF4 import Dataset\n",
    "from wrf import getvar, to_np, get_cartopy, latlon_coords\n",
    "\n",
    "file_path = single_wrf_file()\n",
    "wrf_file = Dataset(file_path)\n",
    "\n",
    "# Get the terrain height\n",
    "terrain = getvar(wrf_file, \"ter\", timeidx=0)\n",
    "\n",
    "# Get the cartopy object and the lat,lon coords\n",
    "cart_proj = get_cartopy(terrain)\n",
    "lats, lons = latlon_coords(terrain)\n",
    "\n",
    "# Create a figure and get the GetAxes object\n",
    "fig = pyplot.figure(figsize=(10, 7.5))\n",
    "geo_axes = pyplot.axes(projection=cart_proj)\n",
    "\n",
    "# Download and add the states and coastlines\n",
    "# See the cartopy documentation for more on this.\n",
    "states = NaturalEarthFeature(category='cultural', \n",
    "                             scale='50m', \n",
    "                             facecolor='none',\n",
    "                             name='admin_1_states_provinces_shp')\n",
    "geo_axes.add_feature(states, linewidth=.5)\n",
    "geo_axes.coastlines('50m', linewidth=0.8)\n",
    "\n",
    "# Set the contour levels\n",
    "levels = numpy.arange(250., 5000., 250.)\n",
    "\n",
    "# Make the contour lines and fill them.\n",
    "pyplot.contour(to_np(lons), to_np(lats), \n",
    "               to_np(terrain), levels=levels, \n",
    "               colors=\"black\",\n",
    "               transform=crs.PlateCarree())\n",
    "pyplot.contourf(to_np(lons), to_np(lats), \n",
    "                to_np(terrain), levels=levels,\n",
    "                transform=crs.PlateCarree(),\n",
    "                cmap=get_cmap(\"terrain\"))\n",
    "             \n",
    "# Add a color bar. The shrink often needs to be set \n",
    "# by trial and error.\n",
    "pyplot.colorbar(ax=geo_axes, shrink=.99)\n",
    "\n",
    "pyplot.show()"
   ]
  },
  {
   "cell_type": "markdown",
   "metadata": {
    "collapsed": true,
    "slideshow": {
     "slide_type": "subslide"
    }
   },
   "source": [
    "## Cropping\n",
    "\n",
    "Sometimes WRF domains are much larger than what you care about.\n",
    "\n",
    "Plots can be cropped in two ways using wrf-python:\n",
    "\n",
    "1. Crop the data before plotting.\n",
    "  - Less data to process = faster!\n",
    "  - There's a slight risk of issues at borders, \n",
    "    but matplotlib seems pretty smart about this.\n",
    "2. Crop the domain with matplotlib using x,y axis limits.\n",
    "  - Runs slower since all of the domain is contoured.\n",
    "  - Should always be correct."
   ]
  },
  {
   "cell_type": "markdown",
   "metadata": {
    "collapsed": true,
    "slideshow": {
     "slide_type": "subslide"
    }
   },
   "source": [
    "### Method 1: Cropping then Plotting\n",
    "\n",
    "If you are cropping the data, then cartopy should just work without worrying about setting the axis limits, as long as xarray is installed and enabled.\n",
    "\n",
    "**Let's start by taking a quick look at the full plot of sea level pressure.**\n"
   ]
  },
  {
   "cell_type": "markdown",
   "metadata": {
    "slideshow": {
     "slide_type": "subslide"
    }
   },
   "source": [
    "## Your Turn!\n",
    "\n",
    "## First, let's start with a full plot of sea level pressure [no cropping].\n",
    "\n",
    "### Example 4.4: Full Plot of Sea Level Pressure"
   ]
  },
  {
   "cell_type": "code",
   "execution_count": null,
   "metadata": {
    "slideshow": {
     "slide_type": "-"
    }
   },
   "outputs": [],
   "source": [
    "import numpy\n",
    "from matplotlib import pyplot\n",
    "from matplotlib.cm import get_cmap\n",
    "from cartopy import crs\n",
    "from cartopy.feature import NaturalEarthFeature\n",
    "from netCDF4 import Dataset\n",
    "from wrf import getvar, to_np, get_cartopy, latlon_coords\n",
    "\n",
    "file_path = single_wrf_file()\n",
    "wrf_file = Dataset(file_path)\n",
    "\n",
    "# Get the terrain height\n",
    "slp = getvar(wrf_file, \"slp\", timeidx=0)\n",
    "\n",
    "# Get the cartopy object and the lat,lon coords\n",
    "cart_proj = get_cartopy(slp)\n",
    "lats, lons = latlon_coords(slp)\n",
    "\n",
    "# Create a figure and get the GetAxes object\n",
    "fig = pyplot.figure(figsize=(10, 7.5))\n",
    "geo_axes = pyplot.axes(projection=cart_proj)\n",
    "\n",
    "# Download and add the states and coastlines\n",
    "# See the cartopy documentation for more on this.\n",
    "states = NaturalEarthFeature(category='cultural', \n",
    "                             scale='50m', \n",
    "                             facecolor='none',\n",
    "                             name='admin_1_states_provinces_shp')\n",
    "geo_axes.add_feature(states, linewidth=.5)\n",
    "geo_axes.coastlines('50m', linewidth=0.8)\n",
    "\n",
    "# Set the contour levels so that all plots match\n",
    "levels = numpy.arange(980.,1030.,2.5)\n",
    "\n",
    "# Make the contour lines and fill them.\n",
    "pyplot.contour(to_np(lons), to_np(lats), \n",
    "               to_np(slp), levels=levels, colors=\"black\",\n",
    "               transform=crs.PlateCarree())\n",
    "pyplot.contourf(to_np(lons), to_np(lats), \n",
    "                to_np(slp), levels=levels, \n",
    "                transform=crs.PlateCarree(),\n",
    "                cmap=get_cmap(\"jet\"))\n",
    "             \n",
    "# Add a color bar. The shrink often needs to be set \n",
    "# by trial and error.\n",
    "pyplot.colorbar(ax=geo_axes, shrink=.86)\n",
    "\n",
    "pyplot.show()"
   ]
  },
  {
   "cell_type": "markdown",
   "metadata": {
    "slideshow": {
     "slide_type": "subslide"
    }
   },
   "source": [
    "## Your Turn!\n",
    "\n",
    "### Example 4.5: Cropping by Slicing the Data\n",
    "\n",
    "Let's crop the data to the lower right quadrant."
   ]
  },
  {
   "cell_type": "code",
   "execution_count": null,
   "metadata": {},
   "outputs": [],
   "source": [
    "import numpy\n",
    "from matplotlib import pyplot\n",
    "from matplotlib.cm import get_cmap\n",
    "from cartopy import crs\n",
    "from cartopy.feature import NaturalEarthFeature\n",
    "from netCDF4 import Dataset\n",
    "from wrf import getvar, to_np, get_cartopy, latlon_coords\n",
    "\n",
    "file_path = single_wrf_file()\n",
    "wrf_file = Dataset(file_path)\n",
    "\n",
    "# Get the terrain height\n",
    "slp = getvar(wrf_file, \"slp\", timeidx=0)\n",
    "\n",
    "# Determine the center of the domain in grid coordinates\n",
    "slp_shape = slp.shape\n",
    "center_y = int(slp_shape[-2]/2.) - 1\n",
    "center_x = int(slp_shape[-1]/2.) - 1\n",
    "\n",
    "# Slice from bottom to middle for y\n",
    "# Slice from middle to right for x\n",
    "slp_quad = slp[..., 0:center_y+1, center_x:]\n",
    "\n",
    "# Get the cartopy object and the lat,lon coords\n",
    "cart_proj = get_cartopy(slp_quad)\n",
    "lats, lons = latlon_coords(slp_quad)\n",
    "\n",
    "# Create a figure and get the GetAxes object\n",
    "fig = pyplot.figure(figsize=(10, 7.5))\n",
    "geo_axes = pyplot.axes(projection=cart_proj)\n",
    "\n",
    "# Download and add the states and coastlines\n",
    "# See the cartopy documentation for more on this.\n",
    "states = NaturalEarthFeature(category='cultural', \n",
    "                             scale='50m', \n",
    "                             facecolor='none',\n",
    "                             name='admin_1_states_provinces_shp')\n",
    "geo_axes.add_feature(states, linewidth=.5)\n",
    "geo_axes.coastlines('50m', linewidth=0.8)\n",
    "\n",
    "# Set the contour levels so that all plots match\n",
    "levels = numpy.arange(980.,1030.,2.5)\n",
    "\n",
    "# Make the contour lines and fill them.\n",
    "pyplot.contour(to_np(lons), to_np(lats), \n",
    "               to_np(slp_quad), levels=levels, colors=\"black\",\n",
    "               transform=crs.PlateCarree())\n",
    "pyplot.contourf(to_np(lons), to_np(lats), \n",
    "                to_np(slp_quad), levels=levels, \n",
    "                transform=crs.PlateCarree(),\n",
    "                cmap=get_cmap(\"jet\"))\n",
    "             \n",
    "# Add a color bar. The shrink often needs to be set \n",
    "# by trial and error.\n",
    "pyplot.colorbar(ax=geo_axes, shrink=.83)\n",
    "\n",
    "pyplot.show()"
   ]
  },
  {
   "cell_type": "markdown",
   "metadata": {
    "slideshow": {
     "slide_type": "subslide"
    }
   },
   "source": [
    "### Method 2: Cropping by Setting x and y Extents\n",
    "\n",
    "This time, let's crop the domain by using the x and y extents in matplotlib.\n",
    "\n",
    "Also, we're going to crop the domain using lat,lon geographic boundaries."
   ]
  },
  {
   "cell_type": "markdown",
   "metadata": {
    "slideshow": {
     "slide_type": "subslide"
    }
   },
   "source": [
    "### Introducing the GeoBounds class\n",
    "\n",
    "To create geographic boundaries, you \n",
    "supply a GeoBounds object constructed with \n",
    "set of bottom_left and top_right CoordPair objects.\n",
    "\n",
    "The CoordPair objects need to use the *lat* \n",
    "and *lon* arguments.\n"
   ]
  },
  {
   "cell_type": "code",
   "execution_count": null,
   "metadata": {},
   "outputs": [],
   "source": [
    "from wrf import CoordPair, GeoBounds\n",
    "\n",
    "bottom_left = CoordPair(lat=29.5, lon=-110)\n",
    "top_right = CoordPair(lat=30.0, lon=-109.3)\n",
    "\n",
    "geo_bounds = GeoBounds(bottom_left, top_right)"
   ]
  },
  {
   "cell_type": "markdown",
   "metadata": {
    "slideshow": {
     "slide_type": "subslide"
    }
   },
   "source": [
    "### Setting the Cartopy Extents\n",
    "\n",
    "After setting up the GeoBounds objects, you can use *cartopy_xlim* and *cartopy_ylim* functions to set the extents.  \n",
    "\n",
    "Note: Cartopy also has an API for doing this, but it doesn't work correctly for some projections like RotatedPole.    \n"
   ]
  },
  {
   "cell_type": "code",
   "execution_count": null,
   "metadata": {
    "slideshow": {
     "slide_type": "-"
    }
   },
   "outputs": [],
   "source": [
    "from wrf import (CoordPair, GeoBounds, getvar, \n",
    "                 cartopy_xlim, cartopy_ylim)\n",
    "\n",
    "file_path = \"/Users/ladwig/wrf_tutorial_data/wrfout_d01_2005-08-28_00_00_00\"\n",
    "wrf_file = Dataset(file_path)\n",
    "\n",
    "slp = getvar(wrf_file, \"slp\", timeidx=0)\n",
    "\n",
    "bottom_left = CoordPair(lat=29.5, lon=-110)\n",
    "top_right = CoordPair(lat=30.0, lon=-109.3)\n",
    "\n",
    "geo_bounds = GeoBounds(bottom_left, top_right)\n",
    "\n",
    "fig = pyplot.figure(figsize=(10, 7.5))\n",
    "geo_axes = pyplot.axes(projection=cart_proj)\n",
    "\n",
    "#. \n",
    "#. Draw contours, add geographic features, etc.\n",
    "#. \n",
    "\n",
    "xlim = cartopy_xlim(slp, geobounds=geo_bounds)               \n",
    "geo_axes.set_xlim(xlim)\n",
    "         \n",
    "ylim = cartopy_ylim(slp, geobounds=geo_bounds)               \n",
    "geo_axes.set_ylim(ylim)"
   ]
  },
  {
   "cell_type": "markdown",
   "metadata": {
    "slideshow": {
     "slide_type": "subslide"
    }
   },
   "source": [
    "## Your Turn!\n",
    "\n",
    "### Example 4.6: Cropping by Setting the X,Y Extents"
   ]
  },
  {
   "cell_type": "code",
   "execution_count": null,
   "metadata": {},
   "outputs": [],
   "source": [
    "import numpy\n",
    "from matplotlib import pyplot\n",
    "from matplotlib.cm import get_cmap\n",
    "from cartopy import crs\n",
    "from cartopy.feature import NaturalEarthFeature\n",
    "from netCDF4 import Dataset\n",
    "from wrf import getvar, to_np, get_cartopy, latlon_coords\n",
    "from wrf import xy_to_ll, cartopy_xlim, cartopy_ylim\n",
    "from wrf import CoordPair, GeoBounds\n",
    "\n",
    "file_path = single_wrf_file()\n",
    "wrf_file = Dataset(file_path)\n",
    "\n",
    "# Get the terrain height\n",
    "slp = getvar(wrf_file, \"slp\", timeidx=0)\n",
    "\n",
    "# Get the cartopy object and the lat,lon coords\n",
    "cart_proj = get_cartopy(slp)\n",
    "lats, lons = latlon_coords(slp)\n",
    "\n",
    "# Create a figure and get the GetAxes object\n",
    "fig = pyplot.figure(figsize=(10, 7.5))\n",
    "geo_axes = pyplot.axes(projection=cart_proj)\n",
    "\n",
    "# Download and add the states and coastlines\n",
    "# See the cartopy documentation for more on this.\n",
    "states = NaturalEarthFeature(category='cultural', \n",
    "                             scale='50m', \n",
    "                             facecolor='none',\n",
    "                             name='admin_1_states_provinces_shp')\n",
    "geo_axes.add_feature(states, linewidth=.5)\n",
    "geo_axes.coastlines('50m', linewidth=0.8)\n",
    "\n",
    "# Set the contour levels so that all plots match\n",
    "levels = numpy.arange(980.,1030.,2.5)\n",
    "\n",
    "# Make the contour lines and fill them.\n",
    "pyplot.contour(to_np(lons), to_np(lats), \n",
    "               to_np(slp), levels=levels, colors=\"black\",\n",
    "               transform=crs.PlateCarree())\n",
    "pyplot.contourf(to_np(lons), to_np(lats), \n",
    "                to_np(slp), levels=levels, \n",
    "                transform=crs.PlateCarree(),\n",
    "                cmap=get_cmap(\"jet\"))\n",
    "             \n",
    "# Add a color bar. The shrink often needs to be set \n",
    "# by trial and error.\n",
    "pyplot.colorbar(ax=geo_axes, shrink=.83)\n",
    "\n",
    "# Set up the x, y extents\n",
    "\n",
    "# Determine the center of the domain in grid coordinates\n",
    "slp_shape = slp.shape\n",
    "start_y = 0\n",
    "center_y = int(slp_shape[-2]/2.) - 1\n",
    "center_x = int(slp_shape[-1]/2.) - 1\n",
    "end_x = int(slp_shape[-1]) - 1\n",
    "\n",
    "# Get the lats and lons for the start, center, and end points\n",
    "# (Normally you would just set these yourself)\n",
    "center_latlon = xy_to_ll(wrf_file, \n",
    "                         [center_x, end_x], \n",
    "                         [start_y, center_y])\n",
    "\n",
    "start_lat = center_latlon[0,0]\n",
    "end_lat = center_latlon[0,1]\n",
    "start_lon = center_latlon[1,0]\n",
    "end_lon = center_latlon[1,1]\n",
    "\n",
    "# Set the extents\n",
    "geo_bounds = GeoBounds(CoordPair(lat=start_lat, lon=start_lon),\n",
    "                       CoordPair(lat=end_lat, lon=end_lon))\n",
    "geo_axes.set_xlim(cartopy_xlim(slp, geobounds=geo_bounds))\n",
    "geo_axes.set_ylim(cartopy_ylim(slp, geobounds=geo_bounds))\n",
    "\n",
    "pyplot.show()"
   ]
  },
  {
   "cell_type": "markdown",
   "metadata": {
    "slideshow": {
     "slide_type": "slide"
    }
   },
   "source": [
    "# 5.0 OpenMP and Performance"
   ]
  },
  {
   "cell_type": "markdown",
   "metadata": {
    "slideshow": {
     "slide_type": "subslide"
    }
   },
   "source": [
    "- Beginning in version 1.1.0, the wrf-python computational routines support OpenMP directives.\n",
    "- All routines are set to use a *runtime* scheduler, so users can specify the scheduler themselves.\n",
    "- The full runtime library is available for OpenMP 3.1, but most functions aren't useful.\n",
    "- By default, wrf-python is set to use 1 thread."
   ]
  },
  {
   "cell_type": "markdown",
   "metadata": {
    "slideshow": {
     "slide_type": "subslide"
    }
   },
   "source": [
    "## Useful OpenMP Library Functions\n",
    "\n",
    "- **omp_enabled**: Returns True if wrf-python has been compiled with OpenMP features.\n",
    "- **omp_get_num_procs**: Return the number of CPUs on this machine.\n",
    "- **omp_set_num_threads**: Set the number of threads (i.e. CPUs) to use.\n",
    "- **omp_set_schedule**: Specify the type of scheduling to use."
   ]
  },
  {
   "cell_type": "markdown",
   "metadata": {
    "slideshow": {
     "slide_type": "subslide"
    }
   },
   "source": [
    "### Setting WRF-Python to Use Max Number of Threads/CPUs"
   ]
  },
  {
   "cell_type": "code",
   "execution_count": null,
   "metadata": {},
   "outputs": [],
   "source": [
    "from wrf import omp_enabled, omp_get_num_procs, omp_set_num_threads\n",
    "\n",
    "if not omp_enabled():\n",
    "    raise RuntimeError(\"OpenMP is not available in this build\")\n",
    "\n",
    "omp_set_num_threads(omp_get_num_procs())"
   ]
  },
  {
   "cell_type": "markdown",
   "metadata": {
    "slideshow": {
     "slide_type": "subslide"
    }
   },
   "source": [
    "## Your Turn!\n",
    "\n",
    "### Example 5.1: Performance Improvement with OpenMP"
   ]
  },
  {
   "cell_type": "code",
   "execution_count": null,
   "metadata": {},
   "outputs": [],
   "source": [
    "from time import time\n",
    "from netCDF4 import Dataset\n",
    "from wrf import (getvar, ALL_TIMES, omp_enabled, \n",
    "                 omp_get_num_procs, omp_set_num_threads)\n",
    "\n",
    "if not omp_enabled():\n",
    "    raise RuntimeError(\"OpenMP is not available in this build\")\n",
    "\n",
    "file_paths = multiple_wrf_files()\n",
    "\n",
    "wrf_files = [Dataset(f) for f in file_paths]\n",
    "    \n",
    "vars = (\"avo\", \"eth\", \"cape_2d\", \"cape_3d\", \"ctt\", \"dbz\", \"mdbz\",\n",
    "        \"geopt\", \"helicity\", \"lat\", \"lon\", \"omg\", \"p\", \"pressure\",\n",
    "        \"pvo\", \"pw\", \"rh2\", \"rh\", \"slp\", \"ter\", \"td2\", \"td\", \"tc\",\n",
    "        \"theta\", \"tk\", \"tv\", \"twb\", \"updraft_helicity\", \"ua\", \"va\",\n",
    "        \"wa\", \"uvmet10\", \"uvmet\", \"z\", \"cfrac\")    \n",
    "\n",
    "print(\"Running with a single CPU\")\n",
    "\n",
    "# Use 1 CPU\n",
    "omp_set_num_threads(1)\n",
    "\n",
    "start = time()\n",
    "\n",
    "for var in vars:\n",
    "    v = getvar(wrf_files, var, ALL_TIMES)\n",
    "    \n",
    "end = time()\n",
    "\n",
    "print(\"Time taken: {} s\".format(end-start))\n",
    "\n",
    "print(\"Running with {} CPUs\".format(omp_get_num_procs()))\n",
    "\n",
    "# Use Max CPUs\n",
    "omp_set_num_threads(omp_get_num_procs())\n",
    "\n",
    "start = time()\n",
    "\n",
    "for var in vars:\n",
    "    v = getvar(wrf_files, var, ALL_TIMES)\n",
    "    \n",
    "end = time()\n",
    "\n",
    "print(\"Time taken: {} s\".format(end-start))"
   ]
  },
  {
   "cell_type": "markdown",
   "metadata": {
    "slideshow": {
     "slide_type": "subslide"
    }
   },
   "source": [
    "Well that was disappointing...\n",
    "\n",
    "Let's test the OpenMP schedulers to see if that improves the situation."
   ]
  },
  {
   "cell_type": "markdown",
   "metadata": {
    "slideshow": {
     "slide_type": "subslide"
    }
   },
   "source": [
    "## OpenMP Scheduling Types\n",
    "\n",
    "WRF-Python uses *runtime* scheduling, which means that one of the scheduler types defined below must be set at runtime rather than compile time."
   ]
  },
  {
   "cell_type": "markdown",
   "metadata": {
    "slideshow": {
     "slide_type": "subslide"
    }
   },
   "source": [
    "## OpenMP Scheduling Types\n",
    "\n",
    "- **OMP_SCHED_STATIC**: Divide the loop in to equal-sized chunks (default chunk_size = loop_count/num_threads)\n",
    "  **[wrf-python default]**\n",
    "  \n",
    "- **OMP_SCHED_DYNAMIC**: Use internal loop queue to give a chunk-sized block of loop iterations to each thread. \n",
    "  When thread is finished, it retrieves next block to work on (default chunk_size = 1)."
   ]
  },
  {
   "cell_type": "markdown",
   "metadata": {
    "slideshow": {
     "slide_type": "subslide"
    }
   },
   "source": [
    "## OpenMP Scheduling Types\n",
    "\n",
    "- **OMP_SCHED_GUIDED**: Similar to OMP_SCHED_DYNAMIC, but the chunk size starts off large and decreases to better \n",
    "  handle load imbalance between iterations. (default chunk_size = loop_count/num_threads)\n",
    "  \n",
    "- **OMP_SCHED_AUTO**: The decision regarding scheduling is delegated to the OpenMP implementation for the compiler \n",
    "  (magic!)"
   ]
  },
  {
   "cell_type": "markdown",
   "metadata": {
    "slideshow": {
     "slide_type": "subslide"
    }
   },
   "source": [
    "## Setting the OpenMP Scheduler"
   ]
  },
  {
   "cell_type": "code",
   "execution_count": null,
   "metadata": {},
   "outputs": [],
   "source": [
    "from wrf import (omp_set_schedule, OMP_SCHED_STATIC, OMP_SCHED_DYNAMIC, \n",
    "                 OMP_SCHED_GUIDED, OMP_SCHED_AUTO)\n",
    "\n",
    "# A value of 0 means to use the OpenMP default\n",
    "chunk_size = 0 \n",
    "\n",
    "omp_set_schedule(OMP_SCHED_GUIDED, chunk_size)"
   ]
  },
  {
   "cell_type": "markdown",
   "metadata": {
    "slideshow": {
     "slide_type": "subslide"
    }
   },
   "source": [
    "## Your Turn!\n",
    "\n",
    "### Example 5.2: OpenMP Scheduling Types"
   ]
  },
  {
   "cell_type": "code",
   "execution_count": null,
   "metadata": {},
   "outputs": [],
   "source": [
    "from time import time\n",
    "from netCDF4 import Dataset\n",
    "from wrf import (getvar, ALL_TIMES, omp_enabled, \n",
    "                 omp_get_num_procs, omp_set_num_threads,\n",
    "                 omp_set_schedule, OMP_SCHED_STATIC,\n",
    "                 OMP_SCHED_DYNAMIC, \n",
    "                 OMP_SCHED_GUIDED, OMP_SCHED_AUTO)\n",
    "\n",
    "if not omp_enabled():\n",
    "    raise RuntimeError(\"OpenMP is not available in this build\")\n",
    "\n",
    "file_paths = multiple_wrf_files()\n",
    "\n",
    "wrf_files = [Dataset(f) for f in file_paths]\n",
    "    \n",
    "vars = (\"avo\", \"eth\", \"cape_2d\", \"cape_3d\", \"ctt\", \"dbz\", \"mdbz\",\n",
    "        \"geopt\", \"helicity\", \"lat\", \"lon\", \"omg\", \"p\", \"pressure\",\n",
    "        \"pvo\", \"pw\", \"rh2\", \"rh\", \"slp\", \"ter\", \"td2\", \"td\", \"tc\",\n",
    "        \"theta\", \"tk\", \"tv\", \"twb\", \"updraft_helicity\", \"ua\", \"va\",\n",
    "        \"wa\", \"uvmet10\", \"uvmet\", \"z\", \"cfrac\")    \n",
    "\n",
    "omp_set_num_threads(omp_get_num_procs())\n",
    "\n",
    "chunk_size = 0\n",
    "\n",
    "sched_string_map = {int(OMP_SCHED_STATIC) : \"OMP_SCHED_STATIC\", \n",
    "                    int(OMP_SCHED_DYNAMIC) : \"OMP_SCHED_DYNAMIC\",  \n",
    "                    int(OMP_SCHED_GUIDED) : \"OMP_SCHED_GUIDED\",\n",
    "                    int(OMP_SCHED_AUTO) : \"OMP_SCHED_AUTO\"}\n",
    "\n",
    "for sched in (OMP_SCHED_STATIC, OMP_SCHED_DYNAMIC, \n",
    "              OMP_SCHED_GUIDED, OMP_SCHED_AUTO):\n",
    "    omp_set_schedule(sched, chunk_size)\n",
    "    sched_string = sched_string_map[int(sched)]\n",
    "    print(\"Running with sheduler: {}\".format(sched_string))\n",
    "    \n",
    "    start = time()\n",
    "    for var in vars:\n",
    "        v = getvar(wrf_files, var, ALL_TIMES)\n",
    "    end = time()\n",
    "    \n",
    "    print(\"Time taken using scheduler {}: {} s\".format(sched_string, end-start))"
   ]
  },
  {
   "cell_type": "markdown",
   "metadata": {
    "slideshow": {
     "slide_type": "subslide"
    }
   },
   "source": [
    "Well that didn't help much...\n",
    "\n",
    "What else could be causing this?"
   ]
  },
  {
   "cell_type": "markdown",
   "metadata": {
    "slideshow": {
     "slide_type": "fragment"
    }
   },
   "source": [
    "**When in doubt, blame I/O.**"
   ]
  },
  {
   "cell_type": "markdown",
   "metadata": {
    "slideshow": {
     "slide_type": "subslide"
    }
   },
   "source": [
    "## WRF-Python and Variable Extraction\n",
    "\n",
    "- Every time you call *wrf.getvar*, the variables needed for the calculation are extracted from the NetCDF file.\n",
    "- The same variables are going to be extracted over and over and over and over and...\n",
    "- To prevent this, you can use the *cache* argument to getvar."
   ]
  },
  {
   "cell_type": "markdown",
   "metadata": {
    "slideshow": {
     "slide_type": "subslide"
    }
   },
   "source": [
    "## The cache Argument to getvar\n",
    "\n",
    "- Normally used internally so that variables containing metadata aren't extracted more than once.\n",
    "- Can also be used to prevent the repeated extraction of common variables.\n",
    "- Should be a dictionary of variable name to variable data (*wrf.extract_vars* will return this).\n",
    "- Good variables to use: **P, PB, PH, PHB, T, QVAPOR, HGT, PSFC, U, V, W**."
   ]
  },
  {
   "cell_type": "markdown",
   "metadata": {
    "slideshow": {
     "slide_type": "subslide"
    }
   },
   "source": [
    "## Using extract_vars to Make a Variable Cache"
   ]
  },
  {
   "cell_type": "code",
   "execution_count": null,
   "metadata": {},
   "outputs": [],
   "source": [
    "from netCDF4 import Dataset\n",
    "from wrf import extract_vars, ALL_TIMES\n",
    "\n",
    "file_paths = multiple_wrf_files()\n",
    "\n",
    "wrf_files = [Dataset(f) for f in file_paths]\n",
    "\n",
    "# Note: Make sure that your timeidx argument matches what\n",
    "# you will use for your call to getvar\n",
    "cache = extract_vars(wrf_files, ALL_TIMES, \n",
    "                     (\"P\", \"PSFC\", \"PB\", \"PH\", \"PHB\",\n",
    "                      \"T\", \"QVAPOR\", \"HGT\", \"U\", \"V\",\n",
    "                      \"W\"))"
   ]
  },
  {
   "cell_type": "markdown",
   "metadata": {
    "slideshow": {
     "slide_type": "subslide"
    }
   },
   "source": [
    "## Your Turn!\n",
    "\n",
    "### Example 5.3: Using the cache Argument"
   ]
  },
  {
   "cell_type": "code",
   "execution_count": null,
   "metadata": {},
   "outputs": [],
   "source": [
    "from time import time\n",
    "from netCDF4 import Dataset\n",
    "from wrf import (getvar, extract_vars, ALL_TIMES, omp_enabled, \n",
    "                 omp_get_num_procs, omp_set_num_threads,\n",
    "                 omp_set_schedule, OMP_SCHED_STATIC,\n",
    "                 OMP_SCHED_DYNAMIC, \n",
    "                 OMP_SCHED_GUIDED, OMP_SCHED_AUTO)\n",
    "\n",
    "if not omp_enabled():\n",
    "    raise RuntimeError(\"OpenMP is not available in this build\")\n",
    "\n",
    "file_paths = multiple_wrf_files()\n",
    "\n",
    "wrf_files = [Dataset(f) for f in file_paths]\n",
    "\n",
    "cache = extract_vars(wrf_files, ALL_TIMES, \n",
    "                     (\"P\", \"PSFC\", \"PB\", \"PH\", \"PHB\",\n",
    "                      \"T\", \"QVAPOR\", \"HGT\", \"U\", \"V\",\n",
    "                      \"W\"))\n",
    "    \n",
    "vars = (\"avo\", \"eth\", \"cape_2d\", \"cape_3d\", \"ctt\", \"dbz\", \"mdbz\",\n",
    "        \"geopt\", \"helicity\", \"lat\", \"lon\", \"omg\", \"p\", \"pressure\",\n",
    "        \"pvo\", \"pw\", \"rh2\", \"rh\", \"slp\", \"ter\", \"td2\", \"td\", \"tc\",\n",
    "        \"theta\", \"tk\", \"tv\", \"twb\", \"updraft_helicity\", \"ua\", \"va\",\n",
    "        \"wa\", \"uvmet10\", \"uvmet\", \"z\", \"cfrac\")    \n",
    "\n",
    "omp_set_num_threads(omp_get_num_procs())\n",
    "\n",
    "chunk_size = 0\n",
    "\n",
    "sched_string_map = {int(OMP_SCHED_STATIC) : \"OMP_SCHED_STATIC\", \n",
    "                    int(OMP_SCHED_DYNAMIC) : \"OMP_SCHED_DYNAMIC\",  \n",
    "                    int(OMP_SCHED_GUIDED) : \"OMP_SCHED_GUIDED\",\n",
    "                    int(OMP_SCHED_AUTO) : \"OMP_SCHED_AUTO\"}\n",
    "\n",
    "for sched in (OMP_SCHED_STATIC, OMP_SCHED_DYNAMIC, \n",
    "              OMP_SCHED_GUIDED, OMP_SCHED_AUTO):\n",
    "    omp_set_schedule(sched, chunk_size)\n",
    "    sched_string = sched_string_map[int(sched)]\n",
    "    print(\"Running with sheduler: {}\".format(sched_string))\n",
    "    \n",
    "    start = time()\n",
    "    for var in vars:\n",
    "        v = getvar(wrf_files, var, ALL_TIMES, cache=cache)\n",
    "    end = time()\n",
    "    \n",
    "    print(\"Time taken using scheduler {}: {} s\".format(sched_string, end-start))"
   ]
  },
  {
   "cell_type": "markdown",
   "metadata": {
    "slideshow": {
     "slide_type": "subslide"
    }
   },
   "source": [
    "That's more like it!\n",
    "\n",
    "About a 60% reduction in computation time from the original single threaded case! \n",
    "\n",
    "(For Python 2.7, where I/O is faster, it's closer to 70%)"
   ]
  },
  {
   "cell_type": "markdown",
   "metadata": {
    "collapsed": true,
    "slideshow": {
     "slide_type": "slide"
    }
   },
   "source": [
    "# 6.0 Advanced Examples\n",
    "\n",
    "These examples are a significant jump in difficulty from the previous ones. \n",
    "\n",
    "Hang on to these for future reference when you begin making real world plots.\n",
    "\n",
    "We probably won't have time to cover them in detail today."
   ]
  },
  {
   "cell_type": "markdown",
   "metadata": {
    "collapsed": true,
    "slideshow": {
     "slide_type": "subslide"
    }
   },
   "source": [
    "## 6.1: Overlaying Multiple Diagnostics\n",
    "\n",
    "In this example, we're going to add winds and dewpoint to the SLP plot from earlier."
   ]
  },
  {
   "cell_type": "code",
   "execution_count": null,
   "metadata": {},
   "outputs": [],
   "source": [
    "import numpy\n",
    "from matplotlib import pyplot\n",
    "from matplotlib.cm import get_cmap\n",
    "from matplotlib.colors import from_levels_and_colors\n",
    "from cartopy import crs\n",
    "from cartopy.feature import NaturalEarthFeature\n",
    "from netCDF4 import Dataset\n",
    "from wrf import (getvar, to_np, get_cartopy, latlon_coords,\n",
    "                 cartopy_xlim, cartopy_ylim)\n",
    "\n",
    "file_path = single_wrf_file()\n",
    "wrf_file = Dataset(file_path)\n",
    "\n",
    "# Get the slp, td2, u, and v variables\n",
    "slp = getvar(wrf_file, \"slp\", timeidx=0)\n",
    "td2 = getvar(wrf_file, \"td2\", timeidx=0, units=\"degF\")\n",
    "u_sfc = getvar(wrf_file, \"ua\", timeidx=0, units=\"kt\")[0,:]\n",
    "v_sfc = getvar(wrf_file, \"va\", timeidx=0, units=\"kt\")[0,:]\n",
    "\n",
    "# Get the cartopy object and the lat,lon coords\n",
    "cart_proj = get_cartopy(slp)\n",
    "lats, lons = latlon_coords(slp)\n",
    "\n",
    "# Create a figure and get the GetAxes object\n",
    "fig = pyplot.figure(figsize=(10, 7.5))\n",
    "geo_axes = pyplot.axes(projection=cart_proj)\n",
    "\n",
    "# Download and add the states and coastlines\n",
    "# See the cartopy documentation for more on this.\n",
    "states = NaturalEarthFeature(category='cultural', \n",
    "                             scale='50m', \n",
    "                             facecolor='none',\n",
    "                             name='admin_1_states_provinces_shp')\n",
    "geo_axes.add_feature(states, linewidth=.5)\n",
    "geo_axes.coastlines('50m', linewidth=0.8)\n",
    "\n",
    "# Manually setting the contour levels\n",
    "slp_levels = numpy.arange(980.,1030.,2.5)\n",
    "td2_levels = numpy.arange(10., 79., 3.)\n",
    "\n",
    "\n",
    "# Manually setting the td2 RGB colors (normalized to 1)\n",
    "td2_rgb = numpy.array([[181,82,0], [181,82,0],\n",
    "                  [198,107,8], [206,107,8],\n",
    "                  [231,140,8], [239,156,8],\n",
    "                  [247,173,24], [255,189,41],\n",
    "                  [255,212,49], [255,222,66],\n",
    "                  [255,239,90], [247,255,123],\n",
    "                  [214,255,132], [181,231,148],\n",
    "                  [156,222,156], [132,222,132],\n",
    "                  [112,222,112], [82,222,82],\n",
    "                  [57,222,57], [33,222,33],\n",
    "                  [8,206,8], [0,165,0],\n",
    "                  [0,140,0], [3,105,3]]) / 255.0\n",
    "    \n",
    "td2_cmap, td2_norm = from_levels_and_colors(td2_levels, td2_rgb, \n",
    "                                            extend=\"both\")\n",
    "\n",
    "# Make pressure contour lines.\n",
    "slp_contours = pyplot.contour(to_np(lons), \n",
    "                              to_np(lats), \n",
    "                              to_np(slp), \n",
    "                              levels=slp_levels, \n",
    "                              colors=\"black\",\n",
    "                              transform=crs.PlateCarree())\n",
    "\n",
    "# Make filled countours for dewpoint.\n",
    "pyplot.contourf(to_np(lons), \n",
    "                to_np(lats), \n",
    "                to_np(td2), \n",
    "                levels=td2_levels, \n",
    "                cmap=td2_cmap, \n",
    "                norm=td2_norm,\n",
    "                extend=\"both\",\n",
    "                transform=crs.PlateCarree())\n",
    "\n",
    "# Plot the wind barbs, but only plot ~10 barbs in each direction.\n",
    "thin = [int(x/10.) for x in lons.shape]\n",
    "pyplot.barbs(to_np(lons[::thin[0], ::thin[1]]), \n",
    "             to_np(lats[::thin[0], ::thin[1]]), \n",
    "             to_np(u_sfc[::thin[0], ::thin[1]]), \n",
    "             to_np(v_sfc[::thin[0], ::thin[1]]),\n",
    "             transform=crs.PlateCarree())\n",
    "\n",
    "# Add contour labels for pressure\n",
    "pyplot.clabel(slp_contours, fmt=\"%i\")\n",
    "\n",
    "# Add a color bar. The shrink often needs to be set \n",
    "# by trial and error.\n",
    "pyplot.colorbar(ax=geo_axes, shrink=.86, extend=\"both\")\n",
    "\n",
    "# Set the map bounds\n",
    "pyplot.xlim(cartopy_xlim(slp))\n",
    "pyplot.ylim(cartopy_ylim(slp))\n",
    "\n",
    "pyplot.show()"
   ]
  },
  {
   "cell_type": "markdown",
   "metadata": {
    "slideshow": {
     "slide_type": "subslide"
    }
   },
   "source": [
    "## Example 6.2: 850 hPa Heights and Winds with interplevel\n",
    "\n",
    "In this example, the 850 hPa heights are plotted with wind barbs."
   ]
  },
  {
   "cell_type": "code",
   "execution_count": null,
   "metadata": {},
   "outputs": [],
   "source": [
    "import numpy\n",
    "from matplotlib import pyplot\n",
    "from matplotlib.cm import get_cmap\n",
    "from matplotlib.colors import from_levels_and_colors\n",
    "from cartopy import crs\n",
    "from cartopy.feature import NaturalEarthFeature\n",
    "from netCDF4 import Dataset\n",
    "from wrf import (getvar, to_np, get_cartopy, latlon_coords, interplevel,\n",
    "                 cartopy_xlim, cartopy_ylim)\n",
    "\n",
    "file_path = single_wrf_file()\n",
    "wrf_file = Dataset(file_path)\n",
    "\n",
    "# Extract the pressure, geopotential height, and wind variables\n",
    "p = getvar(wrf_file, \"pressure\")\n",
    "z = getvar(wrf_file, \"z\", units=\"dm\")\n",
    "ua = getvar(wrf_file, \"ua\", units=\"kt\")\n",
    "va = getvar(wrf_file, \"va\", units=\"kt\")\n",
    "wspd = getvar(wrf_file, \"wspd_wdir\", units=\"kt\")[0,:]\n",
    "\n",
    "# Interpolate geopotential height, u, and v winds to 850 hPa\n",
    "ht_850 = interplevel(z, p, 850)\n",
    "u_850 = interplevel(ua, p, 850)\n",
    "v_850 = interplevel(va, p, 850)\n",
    "wspd_850 = interplevel(wspd, p, 850)\n",
    "\n",
    "# Get the lat/lon coordinates\n",
    "lats, lons = latlon_coords(ht_850)\n",
    "\n",
    "# Get the map projection information\n",
    "cart_proj = get_cartopy(ht_850)\n",
    "\n",
    "# Create the figure\n",
    "fig = pyplot.figure(figsize=(10,7.5))\n",
    "ax = pyplot.axes(projection=cart_proj)\n",
    "\n",
    "# Download and add the states and coastlines\n",
    "states = NaturalEarthFeature(category='cultural', \n",
    "                             scale='50m', \n",
    "                             facecolor='none',\n",
    "                             name='admin_1_states_provinces_shp')\n",
    "ax.add_feature(states, linewidth=0.5)\n",
    "ax.coastlines('50m', linewidth=0.8)\n",
    "\n",
    "# Add the 850 hPa geopotential height contour lines\n",
    "levels = numpy.arange(130., 170., 6.)\n",
    "contours = pyplot.contour(to_np(lons), \n",
    "                          to_np(lats), \n",
    "                          to_np(ht_850), \n",
    "                          levels=levels, \n",
    "                          colors=\"black\",\n",
    "                          transform=crs.PlateCarree())\n",
    "\n",
    "pyplot.clabel(contours, inline=1, fontsize=10, fmt=\"%i\")\n",
    "\n",
    "# Add the wind speed filled contours\n",
    "levels = [25, 30, 35, 40, 50, 60, 70, 80, 90, 100, 110, 120]\n",
    "wspd_contours = pyplot.contourf(to_np(lons), \n",
    "                                to_np(lats), \n",
    "                                to_np(wspd_850), \n",
    "                                levels=levels,\n",
    "                                cmap=get_cmap(\"rainbow\"),\n",
    "                                transform=crs.PlateCarree())\n",
    "\n",
    "pyplot.colorbar(wspd_contours, ax=ax, orientation=\"horizontal\", \n",
    "             pad=.05, shrink=.75)\n",
    "\n",
    "# Add the 850 hPa wind barbs, only plotting 10 barbs in each direction\n",
    "# Also, skipping the border barbs.\n",
    "thin = [int(x/10.) for x in lons.shape]\n",
    "pyplot.barbs(to_np(lons[::thin[0], ::thin[1]]), \n",
    "             to_np(lats[::thin[0], ::thin[1]]), \n",
    "             to_np(u_850[::thin[0], ::thin[1]]),\n",
    "             to_np(v_850[::thin[0], ::thin[1]]), \n",
    "             length=6,\n",
    "             transform=crs.PlateCarree())\n",
    "\n",
    "# Set the map bounds\n",
    "ax.set_xlim(cartopy_xlim(ht_850))\n",
    "ax.set_ylim(cartopy_ylim(ht_850))\n",
    "\n",
    "ax.gridlines()\n",
    "\n",
    "pyplot.title(\"850 MB Height (dm), Wind Speed (kt), Barbs (kt)\")\n",
    "\n",
    "pyplot.show()"
   ]
  },
  {
   "cell_type": "markdown",
   "metadata": {
    "slideshow": {
     "slide_type": "subslide"
    }
   },
   "source": [
    "## Example 6.3: Cross Section Panel Plot\n",
    "\n",
    "In this example, a panel plot is created with one plot showing sea level pressure with the horizontal cross section line, and the second plot is a vertical cross section for radar reflectivity."
   ]
  },
  {
   "cell_type": "markdown",
   "metadata": {
    "slideshow": {
     "slide_type": "subslide"
    }
   },
   "source": [
    "Begin by defining a cross section line in latitude, longitude coordinates.\n",
    "\n",
    "You must run this first, or the next group of cells will throw an error."
   ]
  },
  {
   "cell_type": "code",
   "execution_count": null,
   "metadata": {},
   "outputs": [],
   "source": [
    "from wrf import CoordPair\n",
    "\n",
    "cross_start = CoordPair(lat=27.1, lon=-91.7)\n",
    "cross_end = CoordPair(lat=27.1, lon=-86.7)"
   ]
  },
  {
   "cell_type": "code",
   "execution_count": null,
   "metadata": {
    "slideshow": {
     "slide_type": "subslide"
    }
   },
   "outputs": [],
   "source": [
    "import numpy\n",
    "from matplotlib import pyplot\n",
    "from matplotlib.cm import get_cmap\n",
    "from matplotlib.colors import from_levels_and_colors\n",
    "from cartopy import crs\n",
    "from cartopy.feature import NaturalEarthFeature, COLORS\n",
    "from netCDF4 import Dataset\n",
    "from wrf import (getvar, to_np, get_cartopy, latlon_coords, vertcross,\n",
    "                 cartopy_xlim, cartopy_ylim)\n",
    "\n",
    "try:\n",
    "    cross_start\n",
    "    cross_end\n",
    "except NameError:\n",
    "    raise RuntimeError(\"you didn't run the previous cell\")\n",
    "    \n",
    "file_path = multiple_wrf_files()\n",
    "wrf_file = [Dataset(x) for x in file_path]\n",
    "\n",
    "# Get the WRF variables\n",
    "slp = getvar(wrf_file, \"slp\", timeidx=-1)\n",
    "ht = getvar(wrf_file, \"z\", timeidx=-1)\n",
    "dbz = getvar(wrf_file, \"dbz\", timeidx=-1)\n",
    "Z = 10**(dbz/10.) # Use linear Z for interpolation\n",
    "\n",
    "# Compute the vertical cross-section interpolation.  Also, include the lat/lon\n",
    "# points along the cross-section in the metadata by setting latlon to True.\n",
    "z_cross = vertcross(Z, ht, wrfin=wrf_file, \n",
    "                    start_point=cross_start, \n",
    "                    end_point=cross_end,\n",
    "                    latlon=True, meta=True)\n",
    "\n",
    "# Convert back to dBz after interpolation\n",
    "dbz_cross = 10.0 * numpy.log10(z_cross)\n",
    "\n",
    "# Get the lat/lon points\n",
    "lats, lons = latlon_coords(slp)\n",
    "\n",
    "# Get the cartopy projection object\n",
    "cart_proj = get_cartopy(slp)\n",
    "\n",
    "# Create a figure that will have 2 subplots (1 row, 2 columns)\n",
    "# Signature: Figure.add_subplot(nrows, ncols, index, **kwargs)\n",
    "fig = pyplot.figure(figsize=(15,5))\n",
    "ax_slp = fig.add_subplot(1,2,1,projection=cart_proj)\n",
    "ax_dbz = fig.add_subplot(1,2,2)\n",
    "\n",
    "# Download and create the states, land, and oceans using cartopy features\n",
    "states = NaturalEarthFeature(category='cultural', scale='50m', facecolor='none',\n",
    "                                      name='admin_1_states_provinces_shp')\n",
    "land = NaturalEarthFeature(category='physical', name='land', scale='50m',\n",
    "                                    facecolor=COLORS['land'])\n",
    "ocean = NaturalEarthFeature(category='physical', name='ocean', scale='50m',\n",
    "                                     facecolor=COLORS['water'])\n",
    "\n",
    "# Make the pressure contours\n",
    "slp_levels = numpy.arange(950.,1030.,5)\n",
    "slp_contours = ax_slp.contour(to_np(lons), \n",
    "                    to_np(lats), \n",
    "                    to_np(slp), \n",
    "                    levels=slp_levels, \n",
    "                    colors=\"black\", \n",
    "                    zorder=3, \n",
    "                    transform=crs.PlateCarree())\n",
    "# Add contour labels for pressure\n",
    "ax_slp.clabel(slp_contours, fmt=\"%i\")\n",
    "\n",
    "# Draw the cross section line\n",
    "ax_slp.plot([cross_start.lon, cross_end.lon], \n",
    "            [cross_start.lat, cross_end.lat],\n",
    "            color=\"yellow\", \n",
    "            marker=\"o\",  \n",
    "            zorder=3,\n",
    "            transform=crs.PlateCarree())\n",
    "\n",
    "# Draw the oceans, land, and states\n",
    "ax_slp.add_feature(ocean)\n",
    "ax_slp.add_feature(land)\n",
    "ax_slp.add_feature(states, linewidth=.5, edgecolor=\"black\")\n",
    "\n",
    "# Make the contour plot for dbz\n",
    "dbz_levels = numpy.arange(5.,75.,5.)\n",
    "dbz_contours = ax_dbz.contourf(to_np(dbz_cross), levels=dbz_levels, \n",
    "                               cmap=get_cmap(\"jet\"))\n",
    "cb_dbz = fig.colorbar(dbz_contours, ax=ax_dbz)\n",
    "cb_dbz.ax.tick_params(labelsize=8)\n",
    "\n",
    "# Set the x-ticks to use latitude and longitude labels\n",
    "coord_pairs = to_np(dbz_cross.coords[\"xy_loc\"])\n",
    "x_ticks = numpy.arange(coord_pairs.shape[0])\n",
    "x_labels = [pair.latlon_str() for pair in to_np(coord_pairs)]\n",
    "# Only keeping ~5 xticks\n",
    "thin = [int(x/5.) for x in x_ticks.shape]\n",
    "ax_dbz.set_xticks(x_ticks[1::thin[0]])\n",
    "ax_dbz.set_xticklabels(x_labels[::thin[0]], rotation=45, fontsize=8)\n",
    "\n",
    "# Set the y-ticks to be height\n",
    "vert_vals = to_np(dbz_cross.coords[\"vertical\"])\n",
    "v_ticks = numpy.arange(vert_vals.shape[0])\n",
    "# Only keeping ~8 vertical ticks\n",
    "thin = [int(x/8.) for x in v_ticks.shape]\n",
    "ax_dbz.set_yticks(v_ticks[::thin[0]])\n",
    "ax_dbz.set_yticklabels(vert_vals[::thin[0]], fontsize=8)\n",
    "\n",
    "# Set the x-axis and  y-axis labels\n",
    "ax_dbz.set_xlabel(\"Latitude, Longitude\", fontsize=12)\n",
    "ax_dbz.set_ylabel(\"Height (m)\", fontsize=12)\n",
    "\n",
    "# Add a title\n",
    "ax_slp.set_title(\"Sea Level Pressure (hPa)\", {\"fontsize\" : 14})\n",
    "ax_dbz.set_title(\"Cross-Section of Reflectivity (dBZ)\", {\"fontsize\" : 14})\n",
    "\n",
    "pyplot.show()"
   ]
  },
  {
   "cell_type": "markdown",
   "metadata": {
    "slideshow": {
     "slide_type": "subslide"
    }
   },
   "source": [
    "## Example 6.4: Animations\n",
    "\n",
    "In this example, an animation of sea level pressure is generated."
   ]
  },
  {
   "cell_type": "code",
   "execution_count": null,
   "metadata": {},
   "outputs": [],
   "source": [
    "import numpy\n",
    "from matplotlib import pyplot, rc\n",
    "from matplotlib.cm import get_cmap\n",
    "from matplotlib.colors import from_levels_and_colors\n",
    "from matplotlib.animation import FuncAnimation\n",
    "from IPython.display import HTML\n",
    "from cartopy import crs\n",
    "from cartopy.feature import NaturalEarthFeature, COLORS\n",
    "from netCDF4 import Dataset\n",
    "from wrf import (getvar, to_np, get_cartopy, latlon_coords, vertcross,\n",
    "                 cartopy_xlim, cartopy_ylim, ALL_TIMES)\n",
    "\n",
    "file_path = multiple_wrf_files()\n",
    "wrf_file = [Dataset(x) for x in file_path]\n",
    "\n",
    "# Get SLP for all times\n",
    "slp_all = getvar(wrf_file, \"slp\", timeidx=ALL_TIMES)\n",
    "\n",
    "# Get the cartopy projection object\n",
    "cart_proj = get_cartopy(slp_all)\n",
    "\n",
    "fig = pyplot.figure(figsize=(10,7.5))\n",
    "ax_slp = pyplot.axes(projection=cart_proj)\n",
    "\n",
    "# Download and create the states, land, and oceans using cartopy features\n",
    "states = NaturalEarthFeature(category='cultural', scale='50m', facecolor='none',\n",
    "                                      name='admin_1_states_provinces_shp')\n",
    "land = NaturalEarthFeature(category='physical', name='land', scale='50m',\n",
    "                                    facecolor=COLORS['land'])\n",
    "ocean = NaturalEarthFeature(category='physical', name='ocean', scale='50m',\n",
    "                                     facecolor=COLORS['water'])\n",
    "\n",
    "slp_levels = numpy.arange(950.,1030.,5.)\n",
    "\n",
    "num_frames = slp_all.shape[0]\n",
    "\n",
    "# This function is called for each frame of the animation, where\n",
    "# i is the frame index. Here is where the animation frames need \n",
    "# to be created.\n",
    "def animate(i):\n",
    "    ax_slp.clear()\n",
    "    slp = slp_all[i,:]\n",
    "    \n",
    "    # Get the lat/lon coordinates\n",
    "    lats, lons = latlon_coords(slp)\n",
    "    \n",
    "    ax_slp.add_feature(ocean)\n",
    "    ax_slp.add_feature(land)\n",
    "    ax_slp.add_feature(states, linewidth=.5, edgecolor=\"black\")\n",
    "    \n",
    "    slp_contours = ax_slp.contour(to_np(lons), \n",
    "                                  to_np(lats), \n",
    "                                  to_np(slp), \n",
    "                                  levels=slp_levels,\n",
    "                                  colors=\"black\", \n",
    "                                  zorder=5,\n",
    "                                  transform=crs.PlateCarree()) \n",
    "    \n",
    "    # Add contour labels for pressure\n",
    "    ax_slp.clabel(slp_contours, fmt=\"%i\")\n",
    "    \n",
    "    # Set the map bounds\n",
    "    ax_slp.set_xlim(cartopy_xlim(slp))\n",
    "    ax_slp.set_ylim(cartopy_ylim(slp))\n",
    "        \n",
    "    return ax_slp\n",
    "\n",
    "# Create the animation by supplying a figure, the animation object, \n",
    "# the number of frames and an interval in milliseconds that is the \n",
    "# delay between frames.\n",
    "ani = FuncAnimation(fig, animate, num_frames, interval=500)\n",
    "\n",
    "# To work with jupyter notebook, you need to use the HTML generated\n",
    "# by the HTML function in the IPython.display package.\n",
    "# If you change 'to_jshtml' to be 'to_html5_video', you will get an \n",
    "# HTML5 video instead.\n",
    "\n",
    "#HTML(ani.to_html5_video())\n",
    "HTML(ani.to_jshtml())\n"
   ]
  },
  {
   "cell_type": "markdown",
   "metadata": {
    "slideshow": {
     "slide_type": "slide"
    }
   },
   "source": [
    "# Questions?"
   ]
  }
 ],
 "metadata": {
  "celltoolbar": "Slideshow",
  "kernelspec": {
   "display_name": "Python 3",
   "language": "python",
   "name": "python3"
  },
  "language_info": {
   "codemirror_mode": {
    "name": "ipython",
    "version": 3
   },
   "file_extension": ".py",
   "mimetype": "text/x-python",
   "name": "python",
   "nbconvert_exporter": "python",
   "pygments_lexer": "ipython3",
   "version": "3.6.5"
  },
  "livereveal": {
   "scroll": true,
   "start_slideshow_at": "selected",
   "transition": "zoom",
   "width": 1152
  }
 },
 "nbformat": 4,
 "nbformat_minor": 2
}
